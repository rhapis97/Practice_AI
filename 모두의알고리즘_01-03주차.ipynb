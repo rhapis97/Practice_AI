{
 "cells": [
  {
   "cell_type": "markdown",
   "metadata": {},
   "source": [
    "## 00. 절댓값 구하기 알고리즘"
   ]
  },
  {
   "cell_type": "code",
   "execution_count": 9,
   "metadata": {},
   "outputs": [
    {
     "name": "stdout",
     "output_type": "stream",
     "text": [
      "숫자를 입력하세요> -1.5\n",
      "해당 숫자의 절댓값은 1.5입니다.\n"
     ]
    }
   ],
   "source": [
    "import math    # 수학 모듈 사용\n",
    "\n",
    "# 절댓값 알고리즘 1 (부호 판단)\n",
    "# 입력: 실수 a\n",
    "# 출력: a의 절댓값\n",
    "\n",
    "def abs_sign(a):\n",
    "    if a >= 0:\n",
    "        return a\n",
    "    else:\n",
    "        return -a\n",
    "    \n",
    "num = float(input(\"숫자를 입력하세요> \"))\n",
    "print(\"해당 숫자의 절댓값은 {}입니다.\".format(abs_sign(num)))"
   ]
  },
  {
   "cell_type": "code",
   "execution_count": 10,
   "metadata": {},
   "outputs": [
    {
     "name": "stdout",
     "output_type": "stream",
     "text": [
      "5\n",
      "3\n",
      "\n",
      "5.0\n",
      "3.0\n"
     ]
    }
   ],
   "source": [
    "# 절댓값 알고리즘 2(제곱-제곱근)\n",
    "# 입력: 실수 a\n",
    "# 출력: a의 절댓값\n",
    "\n",
    "def abs_square(a):\n",
    "    b = a*a                 # 제곱 구하기\n",
    "    return math.sqrt(b)    # 제곱근(루트) 구하기 - math 모듈 이용\n",
    "\n",
    "print(abs_sign(5))\n",
    "print(abs_sign(-3))\n",
    "print()\n",
    "print(abs_square(5))\n",
    "print(abs_square(-3))"
   ]
  },
  {
   "cell_type": "markdown",
   "metadata": {},
   "source": [
    "## 01. 1부터 n까지의 합 구하기"
   ]
  },
  {
   "cell_type": "code",
   "execution_count": 12,
   "metadata": {},
   "outputs": [
    {
     "name": "stdout",
     "output_type": "stream",
     "text": [
      "55\n",
      "5050\n"
     ]
    }
   ],
   "source": [
    "# 1부터 n까지 연속한 숫자의 합을 구하는 알고리즘 1\n",
    "# 입력: n\n",
    "# 출력: 1부터 n까지의 숫자를 더한 값\n",
    "\n",
    "def sum_n(n):\n",
    "    s = 0    # 합을 계산할 변수\n",
    "    for i in range(1, n+1):    # 1부터 n까지 반복(n+1은 제외)\n",
    "        s = s + i\n",
    "    return s\n",
    "\n",
    "print(sum_n(10))    # 1부터 10까지 합(입력: 10, 출력: 55)\n",
    "print(sum_n(100))    # 1부터 100까지 합(입력: 100, 출력: 5050)"
   ]
  },
  {
   "cell_type": "code",
   "execution_count": 13,
   "metadata": {},
   "outputs": [
    {
     "name": "stdout",
     "output_type": "stream",
     "text": [
      "55\n",
      "5050\n"
     ]
    }
   ],
   "source": [
    "# 1부터 n까지 연속한 숫자의 합을 구하는 알고리즘 2\n",
    "# 입력: n\n",
    "# 출력: 1부터 n까지의 숫자를 더한 값\n",
    "\n",
    "def sum_n(n):\n",
    "    return n*(n+1)//2\n",
    "\n",
    "print(sum_n(10))    # 1부터 10까지 합(입력: 10, 출력: 55)\n",
    "print(sum_n(100))    # 1부터 100까지 합(입력: 100, 출력: 5050)"
   ]
  },
  {
   "cell_type": "markdown",
   "metadata": {},
   "source": [
    "#### 연습 문제\n",
    "- 1-1. 1부터 n까지 연속한 숫자의 제곱의 합을 구하는 프로그램을 for 반복문으로 만들어 보세요.\n",
    "     (예를 들어 n = 10이라면 1^2 + 2^2 + 3^2 + ... + 10^2 = 385를 계산하는 프로그램입니다.)\n",
    "- 1-2. 연습 문제 1-1 프로그램의 계산 복잡도는 O(1)과 O(n) 중 무엇일까요?\n",
    "- 1-3. 1부터 n까지 연속한 숫자의 제곱의 합을 구하는 공식은 n(n+1)(2n+1)/6으로 알려져 있습니다.\n",
    "     for 반복문 대신 이 공식을 이용하면 알고리즘의 계산 복잡도는 O(1)과 O(n) 중 무엇이 될까요?"
   ]
  },
  {
   "cell_type": "code",
   "execution_count": 16,
   "metadata": {},
   "outputs": [
    {
     "name": "stdout",
     "output_type": "stream",
     "text": [
      "385\n",
      "338350\n"
     ]
    }
   ],
   "source": [
    "# 연속한 숫자 제곱의 합을 구하는 알고리즘\n",
    "# 입력: n\n",
    "# 출력: 1부터 n까지 연속한 숫자의 제곱을 더한 합\n",
    "\n",
    "def sum_sq(n):\n",
    "    s = 0\n",
    "    for i in range(1, n+1):\n",
    "        s += i**2\n",
    "    return s\n",
    "print(sum_sq(10))    # 1부터 10까지 제곱의 합(입력: 10, 출력: 385)\n",
    "print(sum_sq(100))    # 1부터 100까지 제곱의 합(입력: 100, 출력: 338350)"
   ]
  },
  {
   "cell_type": "code",
   "execution_count": 17,
   "metadata": {},
   "outputs": [],
   "source": [
    "# 1-1의 계산 복잡도는 O(n)이다.\n",
    "# 공식을 이용한 알고리즘의 계산 복잡도는 O(1)이다."
   ]
  },
  {
   "cell_type": "markdown",
   "metadata": {},
   "source": [
    "## 02. 최댓값 찾기"
   ]
  },
  {
   "cell_type": "code",
   "execution_count": 18,
   "metadata": {},
   "outputs": [
    {
     "name": "stdout",
     "output_type": "stream",
     "text": [
      "92\n"
     ]
    }
   ],
   "source": [
    "# 최댓값 구하기\n",
    "# 입력: 숫자가 n개 들어 있는 리스트\n",
    "# 출력: 숫자 n개 중 최댓값\n",
    "\n",
    "def find_max(a):\n",
    "    n = len(a)\n",
    "    max_v = a[0]\n",
    "    for i in range(1, n):\n",
    "        if a[i] > max_v:\n",
    "            max_v = a[i]\n",
    "    return max_v\n",
    "\n",
    "v = [17, 92, 18, 33, 58, 7, 33, 42]\n",
    "print(find_max(v))"
   ]
  },
  {
   "cell_type": "code",
   "execution_count": 19,
   "metadata": {},
   "outputs": [
    {
     "name": "stdout",
     "output_type": "stream",
     "text": [
      "1\n"
     ]
    }
   ],
   "source": [
    "# 최댓값의 위치 구하기\n",
    "# 입력: 숫자가 n개 들어 있는 리스트\n",
    "# 출력: 숫자 n개 중에서 최댓값이 있는 위치(0부터 n-1까지의 값)\n",
    "\n",
    "def find_max_idx(a):\n",
    "    n = len(a)\n",
    "    max_idx = 0\n",
    "    for i in range(1, n):\n",
    "        if a[i] > a[max_idx]:\n",
    "            max_idx = i\n",
    "    return max_idx\n",
    "\n",
    "v = [17, 92, 18, 33, 58, 7, 33, 42]\n",
    "print(find_max_idx(v))"
   ]
  },
  {
   "cell_type": "markdown",
   "metadata": {},
   "source": [
    "#### 연습 문제\n",
    "- 2-1. 숫자 n개를 리스트로 입력받아 최솟값을 구하는 프로그램을 만들어 보세요."
   ]
  },
  {
   "cell_type": "code",
   "execution_count": 22,
   "metadata": {},
   "outputs": [
    {
     "name": "stdout",
     "output_type": "stream",
     "text": [
      "7\n"
     ]
    }
   ],
   "source": [
    "# 최솟값 구하기\n",
    "# 입력: 숫자가 n개 들어 있는 리스트\n",
    "# 출력: 숫자 n개 중 최솟값\n",
    "\n",
    "def find_min(a):\n",
    "    n = len(a)    # 입력 크기 n\n",
    "    min_v = a[0]  # 리스트 중 첫 번째 값을 일단 최솟값으로 기억\n",
    "    for i in range(1,n):    # 1부터 n-1까지 반복\n",
    "        if a[i] < min_v:    # 이번 값이 현재까지 기억된 최솟값보다 작으면\n",
    "            min_v = a[i]    # 해당 값으로 최솟값 변경\n",
    "    return min_v\n",
    "\n",
    "v = [17, 92, 18, 33, 58, 7, 33, 42]\n",
    "print(find_min(v))"
   ]
  },
  {
   "cell_type": "markdown",
   "metadata": {},
   "source": [
    "## 03. 동명이인 찾기(1)"
   ]
  },
  {
   "cell_type": "code",
   "execution_count": 25,
   "metadata": {},
   "outputs": [
    {
     "name": "stdout",
     "output_type": "stream",
     "text": [
      "{'Tom'}\n",
      "{'Mike', 'Tom'}\n"
     ]
    }
   ],
   "source": [
    "# 두 번 이상 나온 이름 찾기\n",
    "# 입력: 이름이 n개 들어 있는 리스트\n",
    "# 출력: 이름 n개 중 반복되는 이름의 집합\n",
    "\n",
    "def find_same_name(a):\n",
    "    n = len(a)             # 리스트의 자료 개수를 n에 저장\n",
    "    result = set()         # 결과를 저장할 빈 집합\n",
    "    for i in range(0, n-1):        # 0부터 n-2까지 반복    # 마지막은 비교할 필요 없으니까\n",
    "        for j in range(i+1, n):    # i+1부터 n-1까지 반복  # 기준이 되는 이름의 다음부터 끝까지 비교하면 되니까 i+1(다음) ~ n-1(끝)\n",
    "            if a[i] == a[j]:         # 이름이 같으면\n",
    "                result.add(a[i])     # 찾은 이름을 result에 추가\n",
    "    return result\n",
    "\n",
    "name = ['Tom','Jerry','Mike','Tom']    # 대소문자 유의: 파이썬은 대소문자 구분함\n",
    "print(find_same_name(name))\n",
    "\n",
    "name2 = ['Tom','Jerry','Mike','Tom','Mike']\n",
    "print(find_same_name(name2))"
   ]
  },
  {
   "cell_type": "markdown",
   "metadata": {},
   "source": [
    "#### 연습 문제\n",
    "- 3-1. n명 중 두 명을 뽑아 짝을 짓는다고 할 때 짝을 지을 수 있는 모든 조합을 출력하는 알고리즘을 만들어 보세요. 예를 들어 입력이 리스트 ['Tom','Jerry','Mike']라면 다음과 같은 세 가지 경우를 출력합니다.\n",
    "    - Tom - Jerry\n",
    "    - Tom - Mike\n",
    "    - Jerry - Mike\n",
    "- 3-2. 다음 식을 각각 대문자 O표기법으로 표현해 보세요.\n",
    "    - A: 65536\n",
    "    - B: n-2\n",
    "    - C: 2n^2/3 + 10000n\n",
    "    - D: 3n^4 - 4n^3 + 5n^2 - 6n + 7"
   ]
  },
  {
   "cell_type": "code",
   "execution_count": 28,
   "metadata": {},
   "outputs": [
    {
     "name": "stdout",
     "output_type": "stream",
     "text": [
      "Tom - Jerry\n",
      "Tom - Mike\n",
      "Jerry - Mike\n",
      "\n",
      "Tom - Jerry\n",
      "Tom - Mike\n",
      "Tom - John\n",
      "Jerry - Mike\n",
      "Jerry - John\n",
      "Mike - John\n"
     ]
    }
   ],
   "source": [
    "# n명에서 두 명을 뽑아 짝으로 만드는 모든 경우를 찾는 알고리즘\n",
    "# 입력: n명의 이름이 들어 있는 리스트\n",
    "# 출력: 두 명을 뽑아 만들 수 있는 모든 짝\n",
    "\n",
    "def print_pairs(a):\n",
    "    n = len(a)                      # 리스트의 자료 개수를 n에 저장\n",
    "    for i in range(0, n-1):        # 0부터 n-2까지 반복\n",
    "        for j in range(i+1, n):    # i+1부터 n-1까지 반복\n",
    "            print(a[i], \"-\", a[j])\n",
    "name = ['Tom', 'Jerry', 'Mike']\n",
    "print_pairs(name)\n",
    "print()\n",
    "name2 = ['Tom', 'Jerry', 'Mike', 'John']\n",
    "print_pairs(name2)"
   ]
  },
  {
   "cell_type": "code",
   "execution_count": 29,
   "metadata": {},
   "outputs": [],
   "source": [
    "## 시간복잡도?\n",
    "\n",
    "# A: 65536\n",
    "# -> O(1)\n",
    "\n",
    "# B: n-2\n",
    "# -> O(n)\n",
    "\n",
    "# C: 2n^2/3 + 10000n\n",
    "# -> O(n^2)\n",
    "\n",
    "# D: 3n^4 - 4n^3 + 5n^2 - 6n + 7\n",
    "# -> O(n^4)"
   ]
  },
  {
   "cell_type": "markdown",
   "metadata": {},
   "source": [
    "## 04. 팩토리얼 구하기"
   ]
  },
  {
   "cell_type": "code",
   "execution_count": 30,
   "metadata": {},
   "outputs": [
    {
     "name": "stdout",
     "output_type": "stream",
     "text": [
      "1\n",
      "120\n",
      "3628800\n"
     ]
    }
   ],
   "source": [
    "# 연속한 숫자의 곱을 구하는 알고리즘\n",
    "# 입력: n\n",
    "# 출력: 1부터 n까지 연속한 숫자를 곱한 값\n",
    "\n",
    "def fact(n):\n",
    "    f = 1                       # 곱을 계산할 변수, 초깃값은 1\n",
    "    for i in range(1, n+1):    # 1부터 n까지 반복(n+1은 제외)\n",
    "        f = f*i                # 곱셈 연산으로 수정\n",
    "    return f\n",
    "\n",
    "print(fact(1))    # 1! = 1\n",
    "print(fact(5))    # 5! = 120\n",
    "print(fact(10))   # 10! = 3628800"
   ]
  },
  {
   "cell_type": "code",
   "execution_count": 1,
   "metadata": {},
   "outputs": [],
   "source": [
    "# 재귀 호출: 어떤 함수 안에서 자기 자신을 부르는 것\n",
    "\n",
    "def hello():\n",
    "    print(\"hello\")\n",
    "    hello()    # hello() 함수 안에서 다시 hello()를 호출\n",
    "    \n",
    "# hello()    # hello() 함수를 호출 - 영원히 반복   -> error"
   ]
  },
  {
   "cell_type": "code",
   "execution_count": 32,
   "metadata": {},
   "outputs": [
    {
     "name": "stdout",
     "output_type": "stream",
     "text": [
      "1\n",
      "120\n",
      "3628800\n"
     ]
    }
   ],
   "source": [
    "# 연속한 숫자의 곱을 구하는 알고리즘\n",
    "# 입력: n\n",
    "# 출력: 1부터 n까지 연속한 숫자를 곱한 값\n",
    "\n",
    "def fact(n):\n",
    "    if n <= 1:\n",
    "        return 1\n",
    "    return n * fact(n-1)\n",
    "\n",
    "print(fact(1))\n",
    "print(fact(5))\n",
    "print(fact(10))"
   ]
  },
  {
   "cell_type": "markdown",
   "metadata": {},
   "source": [
    "#### 연습 문제\n",
    "- 4-1. 문제 1의 1부터 n까지의 합 구하기를 재귀 호출로 만들어 보세요.\n",
    "- 4-2. 문제 2의 숫자 n개 중에서 최댓값 찾기를 재귀 호출로 만들어 보세요."
   ]
  },
  {
   "cell_type": "code",
   "execution_count": 2,
   "metadata": {},
   "outputs": [
    {
     "name": "stdout",
     "output_type": "stream",
     "text": [
      "55\n",
      "5050\n"
     ]
    }
   ],
   "source": [
    "# 연속한 숫자의 합을 구하는 알고리즘\n",
    "# 입력: n\n",
    "# 출력: 1부터 n까지 연속한 숫자를 더한 값\n",
    "\n",
    "def sum(n):\n",
    "    if n == 0:\n",
    "        return 0\n",
    "    return sum(n-1) + n\n",
    "\n",
    "print(sum(10))\n",
    "print(sum(100))"
   ]
  },
  {
   "cell_type": "code",
   "execution_count": 3,
   "metadata": {},
   "outputs": [
    {
     "name": "stdout",
     "output_type": "stream",
     "text": [
      "92\n"
     ]
    }
   ],
   "source": [
    "# 최댓값 구하기\n",
    "# 입력 숫자가 n개 들어 있는 리스트\n",
    "# 출력: 숫자 n개 중 최댓값\n",
    "\n",
    "def find_max(list, n):\n",
    "    if n == 1:\n",
    "        return list[0]\n",
    "    \n",
    "    max = find_max(list, n-1)\n",
    "    \n",
    "    if max > list[n-1]:\n",
    "        return max\n",
    "    else:\n",
    "        return list[n-1]\n",
    "\n",
    "v = [17,92,18,33,58,7,33,42]\n",
    "print(find_max(v, len(v)))"
   ]
  },
  {
   "cell_type": "markdown",
   "metadata": {},
   "source": [
    "## 05. 최대공약수 구하기"
   ]
  },
  {
   "cell_type": "code",
   "execution_count": 4,
   "metadata": {},
   "outputs": [
    {
     "name": "stdout",
     "output_type": "stream",
     "text": [
      "1\n",
      "3\n",
      "12\n",
      "27\n"
     ]
    }
   ],
   "source": [
    "# 최대공약수 구하기\n",
    "# 입력: a, b\n",
    "# 출력: a와 b의 최대공약수\n",
    "\n",
    "def gcd(a, b):\n",
    "    i = min(a, b)        # 두 수 중에서 최솟값\n",
    "    while True:\n",
    "        if a % i == 0 and b % i == 0:\n",
    "            return i\n",
    "        i = i - 1\n",
    "        \n",
    "print(gcd(1,5))      # 1\n",
    "print(gcd(3,6))      # 3\n",
    "print(gcd(60,24))    # 12\n",
    "print(gcd(81,27))    # 27"
   ]
  },
  {
   "cell_type": "code",
   "execution_count": 5,
   "metadata": {},
   "outputs": [
    {
     "name": "stdout",
     "output_type": "stream",
     "text": [
      "1\n",
      "3\n",
      "12\n",
      "27\n"
     ]
    }
   ],
   "source": [
    "# 유클리드 방식 이용하여 최대공약수 구하기\n",
    "# 유클리드 알고리즘\n",
    "# a와 b의 최대공약수는 'b'와 'a를 b로 나눈 나머지'의 최대공약수와 같다.\n",
    "\n",
    "def gcd(a,b):\n",
    "    if b == 0:\n",
    "        return a\n",
    "    return gcd(b, a%b)\n",
    "\n",
    "print(gcd(1,5))      # 1\n",
    "print(gcd(3,6))      # 3\n",
    "print(gcd(60,24))    # 12\n",
    "print(gcd(81,27))    # 27"
   ]
  },
  {
   "cell_type": "code",
   "execution_count": 8,
   "metadata": {},
   "outputs": [
    {
     "data": {
      "text/plain": [
       "12"
      ]
     },
     "execution_count": 8,
     "metadata": {},
     "output_type": "execute_result"
    }
   ],
   "source": [
    "60%24"
   ]
  },
  {
   "cell_type": "code",
   "execution_count": 9,
   "metadata": {},
   "outputs": [
    {
     "data": {
      "text/plain": [
       "24"
      ]
     },
     "execution_count": 9,
     "metadata": {},
     "output_type": "execute_result"
    }
   ],
   "source": [
    "24%60"
   ]
  },
  {
   "cell_type": "markdown",
   "metadata": {},
   "source": [
    "#### 연습 문제\n",
    "- 5-1. n번째 피보나치 수를 구하는 알고리즘을 재귀 호출을 이용해서 구현해 보세요\n",
    "- 힌트: 7번 값 = 5번 값 + 6번 값"
   ]
  },
  {
   "cell_type": "code",
   "execution_count": 10,
   "metadata": {},
   "outputs": [
    {
     "name": "stdout",
     "output_type": "stream",
     "text": [
      "21\n",
      "89\n"
     ]
    }
   ],
   "source": [
    "def fibonacci(n):\n",
    "    if n <=1:\n",
    "        return 1\n",
    "    return fibonacci(n-1) + fibonacci(n-2)\n",
    "\n",
    "print(fibonacci(7))\n",
    "print(fibonacci(10))"
   ]
  },
  {
   "cell_type": "markdown",
   "metadata": {},
   "source": [
    "## 06. 하노이의 탑 옮기기"
   ]
  },
  {
   "cell_type": "code",
   "execution_count": 14,
   "metadata": {},
   "outputs": [
    {
     "name": "stdout",
     "output_type": "stream",
     "text": [
      "n = 1\n",
      "1 → 3\n",
      "\n",
      "n = 2\n",
      "1 → 2\n",
      "1 → 3\n",
      "2 → 3\n",
      "\n",
      "n = 3\n",
      "1 → 3\n",
      "1 → 2\n",
      "3 → 2\n",
      "1 → 3\n",
      "2 → 1\n",
      "2 → 3\n",
      "1 → 3\n"
     ]
    }
   ],
   "source": [
    "# 하노이의 탑\n",
    "# 입력: 옮기려는 원반의 개수 n\n",
    "    # 옮길 원반이 현재 있는 출발점 기둥 from_pos\n",
    "    # 원반을 옮길 도착점 기둥 to_pos\n",
    "    # 옮기는 과정에서 사용할 보조 기둥 aux_pos\n",
    "# 출력: 원반을 옮기는 순서\n",
    "\n",
    "def hanoi(n, from_pos, to_pos, aux_pos):\n",
    "    if n == 1:\n",
    "        print(from_pos, \"→\", to_pos)\n",
    "        return\n",
    "    \n",
    "    # 원반 n-1개를 aux_pos로 이동(to_pos를 보조 기둥으로)\n",
    "    hanoi(n-1, from_pos, aux_pos, to_pos)\n",
    "    \n",
    "    # 가장 큰 원반을 목적지로 이동\n",
    "    print(from_pos, \"→\", to_pos)\n",
    "    \n",
    "    # aux_pos에 있는 원반 n-1개를 목적지로 이동(from_pos를 보조 기둥으로)\n",
    "    hanoi(n-1, aux_pos, to_pos, from_pos)\n",
    "    \n",
    "print(\"n = 1\")\n",
    "hanoi(1,1,3,2)\n",
    "print()\n",
    "\n",
    "print(\"n = 2\")\n",
    "hanoi(2,1,3,2)\n",
    "print()\n",
    "\n",
    "print(\"n = 3\")\n",
    "hanoi(3,1,3,2)"
   ]
  },
  {
   "cell_type": "code",
   "execution_count": 15,
   "metadata": {},
   "outputs": [],
   "source": [
    "#### 연습 문제\n",
    "#### 6-1 재귀호출 이용해 그림 그리기\n",
    "\n",
    "# 사각 나선\n",
    "\n",
    "import turtle as t\n",
    "\n",
    "def spiral(sp_len):\n",
    "    if sp_len <= 5:\n",
    "        return\n",
    "    t.forward(sp_len)\n",
    "    t.right(90)\n",
    "    spiral(sp_len - 5)\n",
    "    \n",
    "t.speed(0)\n",
    "spiral(200)\n",
    "t.hideturtle()\n",
    "t.done()"
   ]
  },
  {
   "cell_type": "code",
   "execution_count": 18,
   "metadata": {},
   "outputs": [],
   "source": [
    "# 시에르핀스키의 삼각형\n",
    "\n",
    "import turtle as t\n",
    "\n",
    "def tri(tri_len):\n",
    "    if tri_len <= 10:\n",
    "        for i in range(0,3):\n",
    "            t.forward(tri_len)\n",
    "            t.left(120)\n",
    "        return\n",
    "    new_len = tri_len/2\n",
    "    tri(new_len)\n",
    "    t.forward(new_len)\n",
    "    tri(new_len)\n",
    "    t.backward(new_len)\n",
    "    t.left(60)\n",
    "    t.forward(new_len)\n",
    "    t.right(60)\n",
    "    tri(new_len)\n",
    "    t.left(60)\n",
    "    t.backward(new_len)\n",
    "    t.right(60)\n",
    "    \n",
    "t.speed(0)\n",
    "tri(160)\n",
    "t.hideturtle()\n",
    "t.done()"
   ]
  },
  {
   "cell_type": "code",
   "execution_count": 20,
   "metadata": {},
   "outputs": [],
   "source": [
    "# 나무를 그리는 프로그램\n",
    "\n",
    "import turtle as t\n",
    "\n",
    "def tree(br_len):\n",
    "    if br_len <= 5:\n",
    "        return\n",
    "    new_len = br_len * 0.7\n",
    "    t.forward(br_len)\n",
    "    t.right(20)\n",
    "    tree(new_len)\n",
    "    t.left(40)\n",
    "    tree(new_len)\n",
    "    t.right(20)\n",
    "    t.backward(br_len)\n",
    "    \n",
    "t.speed(0)\n",
    "t.left(90)\n",
    "tree(70)\n",
    "t.hideturtle()\n",
    "t.done()"
   ]
  },
  {
   "cell_type": "code",
   "execution_count": 22,
   "metadata": {},
   "outputs": [],
   "source": [
    "# 눈꽃을 그리는 프로그램\n",
    "\n",
    "import turtle as t\n",
    "\n",
    "def snow_line(snow_len):\n",
    "    if snow_len <= 10:\n",
    "        t.forward(snow_len)\n",
    "        return\n",
    "    new_len = snow_len / 3\n",
    "    snow_line(new_len)\n",
    "    t.left(60)\n",
    "    snow_line(new_len)\n",
    "    t.right(120)\n",
    "    snow_line(new_len)\n",
    "    t.left(60)\n",
    "    snow_line(new_len)\n",
    "    \n",
    "t.speed(0)\n",
    "snow_line(150)\n",
    "t.right(120)\n",
    "snow_line(150)\n",
    "t.right(120)\n",
    "snow_line(150)\n",
    "t.hideturtle()\n",
    "t.done()"
   ]
  },
  {
   "cell_type": "markdown",
   "metadata": {},
   "source": [
    "## 07. 순차 탐색"
   ]
  },
  {
   "cell_type": "code",
   "execution_count": 24,
   "metadata": {},
   "outputs": [
    {
     "name": "stdout",
     "output_type": "stream",
     "text": [
      "2\n",
      "3\n",
      "-1\n"
     ]
    }
   ],
   "source": [
    "# 리스트에서 특정 숫자 위치 찾기\n",
    "# 입력: 리스트 a, 찾는 값 x\n",
    "# 출력: 찾으면 그 값의 위치, 찾지 못하면 -1\n",
    "\n",
    "def search_list(a,x):\n",
    "    n = len(a)    # 입력 크기 n\n",
    "    for i in range(0, n):\n",
    "        if x == a[i]:\n",
    "            return i\n",
    "    return -1\n",
    "\n",
    "v = [17,92,18,33,58,7,33,42]\n",
    "print(search_list(v,18))\n",
    "print(search_list(v,33))\n",
    "print(search_list(v,900))"
   ]
  },
  {
   "cell_type": "markdown",
   "metadata": {},
   "source": [
    "#### 연습 문제\n",
    "#### 7-1 찾는 값이 나오는 모든 위치를 리스트로 돌려주는 탐색 알고리즘 만들기 / 찾는 값이 없으면 빈 리스트 반환\n",
    "#### 7-2 위 문제의 계산 복잡도?\n",
    "#### 7-3 학생 번호와 이름이 리스트로 주어졌을 때 학생 번호 입력하면 해당 이름을 돌려주는 함수 / 번호 없으면 물음표"
   ]
  },
  {
   "cell_type": "code",
   "execution_count": 25,
   "metadata": {},
   "outputs": [
    {
     "name": "stdout",
     "output_type": "stream",
     "text": [
      "[2]\n",
      "[3, 6]\n",
      "[]\n"
     ]
    }
   ],
   "source": [
    "# 7-1\n",
    "\n",
    "# 리스트에서 특정 숫자 위치 전부 찾기\n",
    "# 리스트 a, 찾는 값 x\n",
    "# 출력: 찾는 값의 위치 번호가 담긴 리스트, 찾는 값이 없으면 빈 리스트 []\n",
    "\n",
    "def search_list(a, x):\n",
    "    n = len(a)\n",
    "    result = []\n",
    "    \n",
    "    for i in range(0, n):\n",
    "        if x == a[i]:\n",
    "            result.append(i)\n",
    "            \n",
    "    return result\n",
    "\n",
    "v = [17,92,18,33,58,7,33,42]\n",
    "print(search_list(v,18))\n",
    "print(search_list(v,33))\n",
    "print(search_list(v,900))"
   ]
  },
  {
   "cell_type": "code",
   "execution_count": 26,
   "metadata": {},
   "outputs": [],
   "source": [
    "# 7-2\n",
    "\n",
    "# 위 식의 계산 복잡도는 O(n)\n",
    "# 끝까지 탐색해야 하기 때문에 비교가 n번 필요"
   ]
  },
  {
   "cell_type": "code",
   "execution_count": 27,
   "metadata": {},
   "outputs": [
    {
     "name": "stdout",
     "output_type": "stream",
     "text": [
      "Summer\n",
      "?\n"
     ]
    }
   ],
   "source": [
    "# 7-3 학생 번호에 해당하는 학생 이름 찾기\n",
    "# 입력: 학생 번호 리스트 s_no, 학생 이름 리스트 s_name, 찾는 학생 번호 find_no\n",
    "# 출력: 해당하는 학생 이름, 해당하는 학생 이름이 없으면 물음표 \"?\"\n",
    "\n",
    "def get_name(s_no, s_name, find_no):\n",
    "    n = len(s_no)\n",
    "    for i in range(0, n):\n",
    "        if find_no == s_no[i]:\n",
    "            return s_name[i]\n",
    "    return \"?\"\n",
    "\n",
    "sample_no = [39,14,67,105]\n",
    "sample_name = [\"Justin\", \"John\", \"Mike\", \"Summer\"]\n",
    "\n",
    "print(get_name(sample_no, sample_name, 105))\n",
    "print(get_name(sample_no, sample_name, 777))"
   ]
  },
  {
   "cell_type": "markdown",
   "metadata": {},
   "source": [
    "## 08. 선택 정렬"
   ]
  },
  {
   "cell_type": "code",
   "execution_count": 28,
   "metadata": {},
   "outputs": [
    {
     "name": "stdout",
     "output_type": "stream",
     "text": [
      "[1, 2, 3, 4, 5]\n"
     ]
    }
   ],
   "source": [
    "# 쉽게 설명한 선택 정렬\n",
    "# 입력: 리스트a\n",
    "# 출력: 정렬된 새 리스트\n",
    "# 주어진 리스트에서 최솟값의 위치를 돌려주는 함수\n",
    "\n",
    "def find_min_idx(a):\n",
    "    n = len(a)\n",
    "    min_idx = 0\n",
    "    for i in range(1, n):\n",
    "        if a[i] < a[min_idx]:\n",
    "            min_idx = i\n",
    "    return min_idx\n",
    "\n",
    "def sel_sort(a):\n",
    "    result = []\n",
    "    while a:        # 리스트에 값이 남아 있는 동안 반복\n",
    "        min_idx = find_min_idx(a)\n",
    "        value = a.pop(min_idx)\n",
    "        result.append(value)\n",
    "    return result\n",
    "\n",
    "d = [2,4,5,1,3]\n",
    "print(sel_sort(d))"
   ]
  },
  {
   "cell_type": "code",
   "execution_count": 36,
   "metadata": {},
   "outputs": [
    {
     "name": "stdout",
     "output_type": "stream",
     "text": [
      "[1, 2, 3, 4, 5]\n"
     ]
    }
   ],
   "source": [
    "# 선택 정렬\n",
    "# 입력: 리스트 a\n",
    "# 출력: 없음(입력으로 주어진 a가 정렬됨)\n",
    "\n",
    "def sel_sort(a):\n",
    "    n = len(a)\n",
    "    for i in range(0, n-1):        # 0 ~ n-2까지\n",
    "        min_idx = i\n",
    "        \n",
    "        for j in range(i+1, n):    # 1 ~ n-1까지 (끝까지 비교)\n",
    "            if a[j] < a[min_idx]:  # 비교되는 대상이 더 작으면\n",
    "                min_idx = j        # 그 대상의 위치가 min_idx가 된다. (가장 작은 값)\n",
    "        \n",
    "        a[i], a[min_idx] = a[min_idx], a[i]    # 최소값과 비교 시작한 값 바꾸기\n",
    "            \n",
    "d = [2,4,5,1,3]\n",
    "sel_sort(d)\n",
    "print(d)"
   ]
  },
  {
   "cell_type": "markdown",
   "metadata": {},
   "source": [
    "#### 연습 문제\n",
    "#### 8-1. 일반적인 선택 정렬 알고리즘을 사용해서 리스트 [2,4,5,1,3]을 정렬하는 과정 적기\n",
    "#### 8-2. 큰 수에서 작은 수 순서로 나열하는 내림차순 정렬로 바꾸려면 프로그램의 어느 부분을 바꿔야 하는가?"
   ]
  },
  {
   "cell_type": "code",
   "execution_count": 37,
   "metadata": {},
   "outputs": [],
   "source": [
    "# 8-1\n",
    "# | 2 4 5 1 3\n",
    "# | 1 4 5 2 3\n",
    "# 1 | 2 5 4 3\n",
    "# 1 2 | 3 4 5\n",
    "# 1 2 3 | 4 5\n",
    "# 1 2 3 4 | 5\n",
    "# 1 2 3 4 5 | - 최종 결과"
   ]
  },
  {
   "cell_type": "code",
   "execution_count": 38,
   "metadata": {},
   "outputs": [
    {
     "name": "stdout",
     "output_type": "stream",
     "text": [
      "[5, 4, 3, 2, 1]\n"
     ]
    }
   ],
   "source": [
    "# 8-2\n",
    "\n",
    "def sel_sort(a):\n",
    "    n = len(a)\n",
    "    for i in range(0, n-1):        # 0 ~ n-2까지\n",
    "        max_idx = i\n",
    "        \n",
    "        for j in range(i+1, n):    # 1 ~ n-1까지 (끝까지 비교)\n",
    "            if a[j] > a[max_idx]:  # 비교되는 대상이 더 작으면\n",
    "                max_idx = j        # 그 대상의 위치가 min_idx가 된다. (가장 작은 값)\n",
    "        \n",
    "        a[i], a[max_idx] = a[max_idx], a[i]    # 최소값과 비교 시작한 값 바꾸기\n",
    "            \n",
    "d = [2,4,5,1,3]\n",
    "sel_sort(d)\n",
    "print(d)"
   ]
  },
  {
   "cell_type": "markdown",
   "metadata": {},
   "source": [
    "## 12. 이분 탐색"
   ]
  },
  {
   "cell_type": "code",
   "execution_count": 39,
   "metadata": {},
   "outputs": [
    {
     "name": "stdout",
     "output_type": "stream",
     "text": [
      "5\n",
      "-1\n"
     ]
    }
   ],
   "source": [
    "# 리스트에서 특정 숫자 위치 찾기(이분 탐색)\n",
    "# 입력: 리스트 a, 찾는 값 x\n",
    "# 출력: 찾으면 그 값의 위치, 찾지 못하면 -1\n",
    "\n",
    "def binary_search(a,x):\n",
    "    # 탐색할 범위를 저장하는 변수 start, end\n",
    "    # 리스트 전체를 범위로 탐색 시작( 0 ~ len(a)-1)\n",
    "    start = 0\n",
    "    end = len(a) -1\n",
    "    \n",
    "    while start <= end:            # 탐색할 범위가 남아 있는 동안 반복\n",
    "        mid = (start + end)//2     # 탐색 범위의 중간 위치\n",
    "        if x == a[mid]:     # 발견한 경우\n",
    "            return mid\n",
    "        elif x > a[mid]:    # 찾는 값이 더 크면 중간의 오른쪽으로 범위를 좁혀 계속 탐색\n",
    "            start = mid+1\n",
    "        else:               # 찾는 값이 더 작으면 중간의 왼쪽으로 범위를 좁혀 계속 탐색\n",
    "            end = mid-1\n",
    "    \n",
    "    return -1\n",
    "\n",
    "d = [1,4,9,16,25,36,49,64,81]\n",
    "print(binary_search(d, 36))\n",
    "print(binary_search(d, 50))"
   ]
  },
  {
   "cell_type": "markdown",
   "metadata": {},
   "source": [
    "#### 연습 문제\n",
    "#### 12-1. 재귀 호출을 이용한 이분 탐색"
   ]
  },
  {
   "cell_type": "code",
   "execution_count": 40,
   "metadata": {},
   "outputs": [
    {
     "name": "stdout",
     "output_type": "stream",
     "text": [
      "5\n",
      "-1\n"
     ]
    }
   ],
   "source": [
    "# 리스트에서 특정 숫자 위치 찾기(이분 탐색과 재귀 호출)\n",
    "# 입력: 리스트 a, 찾는 값 x\n",
    "# 출력: 특정 숫자를 찾으면 그 값의 위치, 찾지 못하면 -1\n",
    "\n",
    "# 리스트 a의 어디부터(start) 어디까지(end)가 탐색 범위인지 지정하여\n",
    "# 그 범위 안에서 x를 찾는 재귀 함수\n",
    "\n",
    "def binary_search_sub(a, x, start, end):\n",
    "    # 종료 조건: 남은 탐색 범위가 비었으면 종료\n",
    "    if start > end:\n",
    "        return -1\n",
    "    \n",
    "    mid = (start + end)//2\n",
    "    if x == a[mid]:\n",
    "        return mid\n",
    "    elif x > a[mid]:\n",
    "        return binary_search_sub(a, x, mid+1, end)\n",
    "    else:\n",
    "        return binary_search_sub(a, x, start, mid-1)\n",
    "    \n",
    "    return -1\n",
    "\n",
    "# 리스트 전체를 대상으로 재귀 호출 함수 호출\n",
    "def binary_search(a, x):\n",
    "    return binary_search_sub(a, x, 0, len(a)-1)\n",
    "\n",
    "d = [1,4,9,16,25,36,49,64,81]\n",
    "print(binary_search(d,36))\n",
    "print(binary_search(d,50))"
   ]
  }
 ],
 "metadata": {
  "kernelspec": {
   "display_name": "Python 3",
   "language": "python",
   "name": "python3"
  },
  "language_info": {
   "codemirror_mode": {
    "name": "ipython",
    "version": 3
   },
   "file_extension": ".py",
   "mimetype": "text/x-python",
   "name": "python",
   "nbconvert_exporter": "python",
   "pygments_lexer": "ipython3",
   "version": "3.8.5"
  },
  "vp": {
   "base_numbering": 1,
   "nav_menu": {},
   "number_sections": true,
   "sideBar": true,
   "title_cell": "VisualPython",
   "title_sidebar": "VisualPython",
   "vpPosition": {
    "height": "calc(100% - 180px)",
    "right": "10px",
    "top": "110px",
    "width": "50%"
   },
   "vp_cell": false,
   "vp_section_display": true,
   "vp_window_display": false
  }
 },
 "nbformat": 4,
 "nbformat_minor": 4
}
