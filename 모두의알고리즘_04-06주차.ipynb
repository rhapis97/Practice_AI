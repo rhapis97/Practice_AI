{
 "cells": [
  {
   "cell_type": "code",
   "execution_count": 1,
   "metadata": {},
   "outputs": [
    {
     "name": "stdout",
     "output_type": "stream",
     "text": [
      "5\n",
      "-1\n"
     ]
    }
   ],
   "source": [
    "# 이분 탐색\n",
    "\n",
    "def binary_search_sub(a,x,start,end):\n",
    "    if start > end:          # 범위 벗어남\n",
    "        return -1\n",
    "    \n",
    "    mid = (start+end)//2     # 절반으로 가르기\n",
    "    \n",
    "    if x == a[mid]:          # 그 값이 찾는 값이면\n",
    "        return mid           # 그 인덱스 값 리턴\n",
    "    elif x > a[mid]:         # 찾는 것이 더 크다면 오른쪽으로 범위 좁힘\n",
    "        return binary_search_sub(a,x,mid+1,end)\n",
    "    else:                    # 찾는 것이 더 작다면 왼쪽으로 범위 좁힘\n",
    "        return binary_search_sub(a,x,start,mid-1)\n",
    "    \n",
    "    return -1                # 찾는 값이 없을 때\n",
    "\n",
    "def binary_search(a,x):\n",
    "    return binary_search_sub(a,x,0,len(a)-1)\n",
    "\n",
    "d = [1,4,9,16,25,36,49,64,81]\n",
    "print(binary_search(d,36))\n",
    "print(binary_search(d,50))"
   ]
  },
  {
   "cell_type": "markdown",
   "metadata": {},
   "source": [
    "이진탐색트리  \n",
    "\n",
    "- 탐색 트리의 기본\n",
    "- 데이터의 삽입, 삭제, 탐색 등이 자주 발생하는 경우에 효율적인 구조\n",
    "- 이진 트리이면서 **같은 값을 갖는 노드가 없어야** 함\n",
    "- 최상위 레벨에 루트 노드가 있고 각 노드는 최대 두 개의 자식을 가짐\n",
    "- **왼쪽** 서브 트리에 있는 모든 데이터는 현재 노드의 값보다 **작고**, **오른쪽** 서브 트리에 있는 모든 노드의 데이터는 현재 노드의 값보다 **큼**  \n",
    "\n",
    "- 데이터 탐색은 루트에서부터 시작됨\n",
    "- 루트 노드의 데이터와 찾으려는 데이터를 비교하여 루트 노드와 찾으려는 데이터가 같으면 탐색은 성공적으로 종료함  \n",
    "그렇지 않고 루트 노드의 데이터가 찾으려는 데이터보다 작으면 루트 노드의 오른쪽 서브 트리를 탐색해가고,  \n",
    "루트 노드의 데이터가 찾으려는 데이터보다 크면 루트 노드의 왼쪽 서브 트리를 탐색해 감  "
   ]
  },
  {
   "cell_type": "markdown",
   "metadata": {},
   "source": [
    "treeSearch(t,x)  \n",
    "- t: 트리의 루트 노드\n",
    "- x: 검색하고자 하는 키  \n",
    "{  \n",
    "    \n",
    "        if(t=NIL or key[t]=x) then return t;  \n",
    "        if(x < key[t])  \n",
    "            then return treeSearch(left[t], x);\n",
    "            else return treeSearch(right[t],x);\n",
    "}"
   ]
  },
  {
   "cell_type": "markdown",
   "metadata": {},
   "source": [
    "- 이진 트리 탐색에서 루트 노드 t에서 왼쪽 자식 Left[t]로 분기하는 것은 Left[t]가 새로운 루트가 되었을 뿐 앞의 과정과 똑같은 작업임\n",
    "- 즉, 루트 노드와 찾으려는 데이터의 대소 비교를 하고 나면 자신과 성격은 똑같으면서 더 작은 문제를 만남 → 재귀적임"
   ]
  },
  {
   "cell_type": "markdown",
   "metadata": {},
   "source": [
    "데이터 삽입\n",
    "- 이진 탐색 트리에서의 삽입은 탐색 동작을 통해 이루어짐\n",
    "- <u>탐색에 성공하면 삽입은 실패함(이는 삽입하려는 데이터가 이미 존재한다는 의미인데 이진 탐색 트리는 같은 데이터를 갖는 노드가 없어야 함)</u>\n",
    "- 탐색에 실패하면 삽입을 할 수 있으며 탐색이 종료된 지점의 데이터를 값으로 하는 노드가 삽입됨\n",
    "- 삽입할 위치는 루트 노드에서부터 시작되며 삽입할 노드의 데이터가 비교하는 노드의 데이터보다 작으면 왼쪽 서브 트리로 진행하고 크면 오른쪽 서브 트리로 진행함"
   ]
  },
  {
   "cell_type": "markdown",
   "metadata": {},
   "source": [
    "이진탐색트리_특징\n",
    "- <u>이진 탐색 트리는 좌우의 균형이 잘 잡힌 탐색 트리인데 균형이 잘 맞으면 탐색의 효율이 높음</u>\n",
    "- 탐색 트리에서 효율은 트리의 깊이와 밀접한 관계가 있음  \n",
    "→ 트리의 모양이 극단적으로 왼쪽이나 오른쪽으로 치우쳐 있는 경우 탐색의 효율이 나쁨(사향 이진 트리)\n",
    "- 사향 이진 트리(Skewed Binary Tree)  \n",
    "예) 데이터가 10,20,25,30,40,45의 순서로 원소가 삽입될 경우에 만들어지는 <u>트리의 모양은 극단적으로 오른쪽으로 치우쳐 있음(오른쪽 사향 이진 트리)</u>\n",
    "    - 이 트리에서 45를 검색할 경우 10,20,25,30,40,45의 순서로 트리의 모든 원소와 비교해야 함\n",
    "    - 40을 검색할 경우에는 10,20,25,30,40의 순서로 다섯 번의 비교가 필요(검색 효율 나쁨)"
   ]
  },
  {
   "cell_type": "markdown",
   "metadata": {},
   "source": [
    "## 09. 삽입정렬"
   ]
  },
  {
   "cell_type": "code",
   "execution_count": 12,
   "metadata": {},
   "outputs": [],
   "source": [
    "def insertion_sort(data):\n",
    "    for index in range(len(data)-1):            # 리스트 전체 값에 대해 반복문 돌림\n",
    "        for index2 in range(index+1, 0, -1):    # 다음 인덱스부터 처음 인덱스까지 거꾸로 반복\n",
    "            if data[index2] < data[index2 - 1]:    # 비교하는 값이 더 작으면 위치 바꿔주기\n",
    "                data[index2], data[index2 - 1] = data[index2 - 1], data[index2]\n",
    "            else:\n",
    "                break\n",
    "    return data"
   ]
  },
  {
   "cell_type": "code",
   "execution_count": 13,
   "metadata": {},
   "outputs": [
    {
     "name": "stdout",
     "output_type": "stream",
     "text": [
      "[2, 3, 4, 5, 7, 9, 11, 15, 17, 18, 19, 22, 24, 27, 29, 32, 36, 37, 39, 40, 42, 44, 46, 48, 51, 53, 54, 60, 61, 62, 63, 67, 68, 70, 71, 72, 75, 77, 78, 80, 83, 86, 88, 89, 91, 93, 95, 96, 97, 98]\n"
     ]
    }
   ],
   "source": [
    "import random\n",
    "data_list = random.sample(range(100), 50)\n",
    "print(insertion_sort(data_list))"
   ]
  },
  {
   "cell_type": "code",
   "execution_count": 5,
   "metadata": {},
   "outputs": [
    {
     "name": "stdout",
     "output_type": "stream",
     "text": [
      "[1, 2, 3, 4, 5]\n"
     ]
    }
   ],
   "source": [
    "# 쉽게 설명한 삽입 정렬\n",
    "# 입력: 리스트a\n",
    "# 출력: 정렬된 새 리스트\n",
    "\n",
    "# 리스트 r에서 v가 들어가야 할 위치를 돌려준느 함수\n",
    "def find_ins_idx(r,v):\n",
    "    # 이미 정렬된 리스트 r의 자료를 앞에서부터 차례로 확인하여\n",
    "    for i in range(0, len(r)):\n",
    "        # v값보다 i번 위치에 있는 자료 값이 크면\n",
    "        # v가 그 값 바로 앞에 놓여야 정렬 순서가 유지됨\n",
    "        if v < r[i]:\n",
    "            return i\n",
    "    # 적절한 위치를 못 찾았을 때는\n",
    "    # v가 r의 모든 자료보다 크다는 뜻이므로 맨 뒤에 삽입\n",
    "    return len(r)\n",
    "\n",
    "def ins_sort(a):\n",
    "    result = []        # 새 리스트를 만들어 정렬된 값을 저장\n",
    "    while a:          # 기존 리스트에 값이 남아 있는 동안 반복\n",
    "        value = a.pop(0)    #기존 리스트에서 한 개를 꺼냄\n",
    "        ins_idx = find_ins_idx(result, value)    # 꺼낸 값이 들어갈 적당한 위치 찾기\n",
    "        result.insert(ins_idx, value)    # 찾은 위치에 값 삽입(이후 값은 한 칸씩 밀려남)\n",
    "    return result\n",
    "\n",
    "d = [2,4,5,1,3]\n",
    "print(ins_sort(d))        "
   ]
  },
  {
   "cell_type": "code",
   "execution_count": 14,
   "metadata": {},
   "outputs": [
    {
     "name": "stdout",
     "output_type": "stream",
     "text": [
      "[1, 2, 3, 4, 5]\n"
     ]
    }
   ],
   "source": [
    "# 삽입 정렬\n",
    "# 입력: 리스트a\n",
    "# 출력: 없음(입력으로 주어진 a가 정렬됨)\n",
    "\n",
    "def ins_sort(a):\n",
    "    n = len(a)\n",
    "    for i in range(1, n):        # 1부터 n-1까지\n",
    "        key = a[i]               # i번 위치에 있는 값을 key에 저장\n",
    "        j = i-1                  # j를 i 바로 왼쪽 위치로 저장\n",
    "        while j >= 0 and a[j] > key:    # 리스트 j번 위치에 있는 값과 key를 비교해 key가 삽입될 위치 찾음\n",
    "            a[j+1] = a[j]        # 삽입할 공간이 생기도록 값을 오른쪽으로 한 칸 이동\n",
    "            j -= 1\n",
    "        a[j+1] = key             # 찾은 삽입 위치에 key를 저장\n",
    "\n",
    "d = [2,4,5,1,3]\n",
    "ins_sort(d)\n",
    "print(d)"
   ]
  },
  {
   "cell_type": "markdown",
   "metadata": {},
   "source": [
    "#### 연습 문제\n",
    "#### 9-1 일반적인 삽입 정렬 알고리즘 사용해서 리스트 [2,4,5,1,3]을 정렬하는 과정\n",
    "#### 9-2 내림차순 정렬로 바꾸기"
   ]
  },
  {
   "cell_type": "code",
   "execution_count": null,
   "metadata": {},
   "outputs": [],
   "source": []
  },
  {
   "cell_type": "code",
   "execution_count": 15,
   "metadata": {},
   "outputs": [
    {
     "name": "stdout",
     "output_type": "stream",
     "text": [
      "[5, 4, 3, 2, 1]\n"
     ]
    }
   ],
   "source": [
    "def ins_sort(a):\n",
    "    n = len(a)\n",
    "    for i in range(1, n):\n",
    "        key = a[i]\n",
    "        j = i-1\n",
    "        while j >= 0 and a[j] < key:\n",
    "            a[j+1] = a[j]\n",
    "            j -= 1\n",
    "        a[j+1] = key\n",
    "\n",
    "d = [2,4,5,1,3]\n",
    "ins_sort(d)\n",
    "print(d)"
   ]
  },
  {
   "cell_type": "code",
   "execution_count": null,
   "metadata": {},
   "outputs": [],
   "source": []
  },
  {
   "cell_type": "markdown",
   "metadata": {},
   "source": [
    "## 코딩으로 확인하는 최소 제곱"
   ]
  },
  {
   "cell_type": "code",
   "execution_count": 17,
   "metadata": {},
   "outputs": [
    {
     "name": "stdout",
     "output_type": "stream",
     "text": [
      "x의 평균값: 5.0\n",
      "y의 평균값: 90.5\n",
      "분모: 20.0\n",
      "분자: 46.0\n",
      "기울기 a: 2.3\n",
      "y 절편 b: 79.0\n"
     ]
    }
   ],
   "source": [
    "import numpy as np\n",
    "\n",
    "# X값과 Y값\n",
    "x = [2,4,6,8]\n",
    "y = [81,93,91,97]\n",
    "\n",
    "# X와 Y의 평균값\n",
    "mx = np.mean(x)\n",
    "my = np.mean(y)\n",
    "print(\"x의 평균값:\",mx)\n",
    "print(\"y의 평균값:\",my)\n",
    "\n",
    "# 기울기 공식의 분모\n",
    "divisor = sum([(i-mx)**2 for i in x])  # 분모에 해당하는 부분\n",
    "\n",
    "# 기울기 공식의 분자\n",
    "def top(x, mx, y, my):\n",
    "    d = 0\n",
    "    for i in range(len(x)):\n",
    "        d += (x[i]-mx)*(y[i]-my)\n",
    "    return d\n",
    "\n",
    "dividend = top(x, mx, y, my)    # 분자에 해당하는 부분\n",
    "\n",
    "print(\"분모:\",divisor)\n",
    "print(\"분자:\",dividend)\n",
    "\n",
    "# 기울기와 y절편 구하기\n",
    "a = dividend / divisor\n",
    "b = my - (mx*a)\n",
    "\n",
    "# 출력으로 확인\n",
    "print(\"기울기 a:\",a)\n",
    "print(\"y 절편 b:\",b)"
   ]
  },
  {
   "cell_type": "markdown",
   "metadata": {},
   "source": [
    "## 코딩으로 확인하는 평균 제곱 오차"
   ]
  },
  {
   "cell_type": "code",
   "execution_count": 13,
   "metadata": {},
   "outputs": [
    {
     "name": "stdout",
     "output_type": "stream",
     "text": [
      "공부 시간=2, 실제 점수=81, 예측 점수=82\n",
      "공부 시간=4, 실제 점수=93, 예측 점수=88\n",
      "공부 시간=6, 실제 점수=91, 예측 점수=94\n",
      "공부 시간=8, 실제 점수=97, 예측 점수=100\n",
      "mse 최종값:11.0\n"
     ]
    }
   ],
   "source": [
    "import numpy as np\n",
    "\n",
    "fake_a_b = [3, 76]    # 임의로 정한 기울기 a와 y절편 b의 값이 각각 3, 76\n",
    "\n",
    "data = [[2,81],[4,93],[6,91],[8,97]]    # [공부한 시간, 성적]을 리스트로 만듦\n",
    "x = [i[0] for i in data]    # 공부한 시간만 모은 리스트\n",
    "y = [i[1] for i in data]    # 성적만 모은 리스트\n",
    "\n",
    "def predict(x):    # y값 구하는 함수\n",
    "    return fake_a_b[0]*x + fake_a_b[1]    \n",
    "    # 임의로 정한 a,b값으로 만든 일차함수 y = ax + b \n",
    "    # → 결국 x값으로 'y값'을 구하기 위한 것\n",
    "\n",
    "# 평균 제곱 오차 공식(MSE)\n",
    "def mse(y, y_hat):\n",
    "    return ((y - y_hat)**2).mean()\n",
    "    # 오차 제곱의 합 / 총 원소 개수\n",
    "    # y, y_hat으로 배열을 받아옴\n",
    "\n",
    "# mse()함수에 데이터 대입하여 최종값 구하는 함수\n",
    "def mse_val(y, predict_result):    # 실제값, 예측값\n",
    "    return mse(np.array(y), np.array(predict_result))\n",
    "    # 목록을 array로 만들어주어야 함 → 아래에서 더 자세한 설명\n",
    "\n",
    "# 예측값이 들어갈 빈 리스트\n",
    "predict_result = []\n",
    "\n",
    "# 모든 x값을 한 번씩 대입하여 predict_result 리스트 완성\n",
    "for i in range(len(x)):\n",
    "    predict_result.append(predict(x[i]))    # x값에 따른 y값 → predict_result\n",
    "    print(\"공부 시간=%.f, 실제 점수=%.f, 예측 점수=%.f\" % (x[i], y[i], predict(x[i])))\n",
    "\n",
    "# 최종 MSE 출력\n",
    "print(\"mse 최종값:\" + str(mse_val(predict_result, y)))"
   ]
  },
  {
   "cell_type": "code",
   "execution_count": 11,
   "metadata": {},
   "outputs": [
    {
     "ename": "TypeError",
     "evalue": "unsupported operand type(s) for -: 'list' and 'list'",
     "output_type": "error",
     "traceback": [
      "\u001b[1;31m---------------------------------------------------------------------------\u001b[0m",
      "\u001b[1;31mTypeError\u001b[0m                                 Traceback (most recent call last)",
      "\u001b[1;32m<ipython-input-11-2ca6be5f1ac0>\u001b[0m in \u001b[0;36m<module>\u001b[1;34m\u001b[0m\n\u001b[0;32m      1\u001b[0m \u001b[0ma\u001b[0m \u001b[1;33m=\u001b[0m \u001b[1;33m[\u001b[0m\u001b[1;36m1\u001b[0m\u001b[1;33m,\u001b[0m\u001b[1;36m2\u001b[0m\u001b[1;33m,\u001b[0m\u001b[1;36m3\u001b[0m\u001b[1;33m,\u001b[0m\u001b[1;36m4\u001b[0m\u001b[1;33m]\u001b[0m\u001b[1;33m\u001b[0m\u001b[1;33m\u001b[0m\u001b[0m\n\u001b[0;32m      2\u001b[0m \u001b[0mb\u001b[0m \u001b[1;33m=\u001b[0m \u001b[1;33m[\u001b[0m\u001b[1;36m5\u001b[0m\u001b[1;33m,\u001b[0m\u001b[1;36m6\u001b[0m\u001b[1;33m,\u001b[0m\u001b[1;36m7\u001b[0m\u001b[1;33m,\u001b[0m\u001b[1;36m8\u001b[0m\u001b[1;33m]\u001b[0m\u001b[1;33m\u001b[0m\u001b[1;33m\u001b[0m\u001b[0m\n\u001b[1;32m----> 3\u001b[1;33m \u001b[0ma\u001b[0m\u001b[1;33m-\u001b[0m\u001b[0mb\u001b[0m\u001b[1;33m\u001b[0m\u001b[1;33m\u001b[0m\u001b[0m\n\u001b[0m",
      "\u001b[1;31mTypeError\u001b[0m: unsupported operand type(s) for -: 'list' and 'list'"
     ]
    }
   ],
   "source": [
    "a = [1,2,3,4]\n",
    "b = [5,6,7,8]\n",
    "a-b    # 목록에서 목록을 뺄 수 없다. → 에러 발생"
   ]
  },
  {
   "cell_type": "code",
   "execution_count": 12,
   "metadata": {},
   "outputs": [
    {
     "data": {
      "text/plain": [
       "array([-4, -4, -4, -4])"
      ]
     },
     "execution_count": 12,
     "metadata": {},
     "output_type": "execute_result"
    }
   ],
   "source": [
    "# 따라서 numpy의 array를 통해 배열로 만들어주어야 한다.\n",
    "a = np.array(a)\n",
    "b = np.array(b)\n",
    "a-b"
   ]
  },
  {
   "cell_type": "code",
   "execution_count": 15,
   "metadata": {},
   "outputs": [
    {
     "data": {
      "text/plain": [
       "[-4, -4, -4, -4]"
      ]
     },
     "execution_count": 15,
     "metadata": {},
     "output_type": "execute_result"
    }
   ],
   "source": [
    "# 혹은 list comprehension을 통해서 각 원소를 계산할 수 있다.\n",
    "a = [1,2,3,4]\n",
    "b = [5,6,7,8]\n",
    "[a - b for a, b in zip(a, b)]    # zip()함수는 각 원소를 짝지어줌"
   ]
  },
  {
   "cell_type": "markdown",
   "metadata": {},
   "source": [
    "- 처음 가정한 a=3, b=76은 오차가 약 11.0이라는 것을 확인  \n",
    "- 앞으로 할 일  \n",
    "    - 이 오차를 줄이는 새로운 선 긋기\n",
    "    - a와 b의 값을 적절히 조절하면서 오차가 최소화되는 a, b 구하기\n",
    "    - → <span style=\"color:red\">경사하강법</span>"
   ]
  },
  {
   "cell_type": "markdown",
   "metadata": {},
   "source": [
    "## 문제 13 회문 찾기(큐와 스택)"
   ]
  },
  {
   "cell_type": "code",
   "execution_count": 1,
   "metadata": {},
   "outputs": [
    {
     "name": "stdout",
     "output_type": "stream",
     "text": [
      "True\n",
      "True\n",
      "False\n"
     ]
    }
   ],
   "source": [
    "# 주어진 문장이 회문인지 아닌지 찾기(큐와 스택의 특징을 이용)\n",
    "# 입력: 문자열 s\n",
    "# 출력: 회문이면 True, 아니면 False\n",
    "\n",
    "def palindrome(s):\n",
    "    # 큐와 스택을 리스트로 정의\n",
    "    qu = []\n",
    "    st = []\n",
    "\n",
    "    # 1단계: 문자열의 알파벳 문자를 각각 큐와 스택에 넣음\n",
    "    for x in s:\n",
    "        # 해당 문자가 알파벳이면(공백, 숫자, 특수문자가 아니면)\n",
    "        # 뮤와 스택에 각각 그 문자를 추가\n",
    "        if x.isalpha():\n",
    "            qu.append(x.lower())\n",
    "            st.append(x.lower())\n",
    "\n",
    "    # 2단계: 큐와 스택에 들어 있는 문자를 꺼내면서 비교\n",
    "    while qu:    # 큐에 문자가 남아 있는 동안 반복\n",
    "        if qu.pop(0) != st.pop():    # 큐와 스택에서 꺼낸 문자가 다르면 회문이 아님\n",
    "            return False\n",
    "        \n",
    "    return True\n",
    "\n",
    "print(palindrome(\"Wow\"))\n",
    "print(palindrome(\"Madam, I'm Adam.\"))\n",
    "print(palindrome(\"Madam, I am Adam.\"))"
   ]
  },
  {
   "cell_type": "code",
   "execution_count": 6,
   "metadata": {},
   "outputs": [
    {
     "data": {
      "text/plain": [
       "deque([2])"
      ]
     },
     "execution_count": 6,
     "metadata": {},
     "output_type": "execute_result"
    }
   ],
   "source": [
    "from collections import deque\n",
    "qu = deque()\n",
    "qu.append(1)    # 1을 큐에 추가(enqueue)\n",
    "qu.append(2)    # 2를 큐에 추가(enqueue)\n",
    "qu.popleft()    # 큐에서 1을 꺼냄(dequeue)\n",
    "qu    # 큐에서 1을 꺼내서 2가 남아 있음"
   ]
  },
  {
   "cell_type": "markdown",
   "metadata": {},
   "source": [
    "#### 연습 문제\n",
    "#### 13-1\n",
    "큐와 스택을 이용하지 않고 회문인지 아닌지 판단할 수 있는 방법으로  \n",
    "문장의 앞뒤를 차례로 비교하면서 각 문자가 같은지 확인하여  \n",
    "회문인지 아닌지 판단하는 알고리즘 만들어 보기"
   ]
  },
  {
   "cell_type": "code",
   "execution_count": 4,
   "metadata": {},
   "outputs": [
    {
     "name": "stdout",
     "output_type": "stream",
     "text": [
      "True\n",
      "True\n",
      "False\n"
     ]
    }
   ],
   "source": [
    "# 주어진 문장이 회문인지 확인(문자열의 앞뒤를 서로 비교)\n",
    "# 입력: 문자열 s\n",
    "# 출력: 회문이면 True, 아니면 False\n",
    "\n",
    "def palindrome(s):\n",
    "    i = 0             # 문자열의 앞에서 비교할 위치\n",
    "    j = len(s) - 1    # 문자열의 뒤에서 비교할 위치\n",
    "    while i < j:     # 중간까지만 검사하면 됨\n",
    "        # i위치에 있는 문자가 알파벳 문자가 아니면 뒤로 이동\n",
    "        if s[i].isalpha() == False:\n",
    "            i += 1\n",
    "        # j위치에 있는 문자가 알파벳 문자가 아니면 앞으로 이동\n",
    "        elif s[j].isalpha() == False:\n",
    "            j -= 1\n",
    "        # i와 j 위치에 둘 다 알파벳 문자가 있으면 두 문자를 비교하고 다르면 회문이 아님\n",
    "        elif s[i].lower() != s[j].lower():\n",
    "            return False\n",
    "        # i와 j 위치에 두 문자를 비교하고 같으면 다음 비교 대상으로 넘어감\n",
    "        else:\n",
    "            i += 1\n",
    "            j -= 1\n",
    "\n",
    "    return True\n",
    "\n",
    "print(palindrome(\"Wow\"))\n",
    "print(palindrome(\"Madam, I'm Adam.\"))\n",
    "print(palindrome(\"Madam, I am Adam.\"))"
   ]
  },
  {
   "cell_type": "markdown",
   "metadata": {},
   "source": [
    "## 분할 정복(Divide and Conquer)\n",
    "- 주어진 문제의 입력을 다루기 쉽게 부분으로 <span style=\"color:blue\">분할하여 문제를 해결(정복)하는 방식</span>의 알고리즘\n",
    "- 문제를 더 이상 나눌 수 없을 때까지 나누고 이렇게 나누어진 문제들을 각각 풂으로써 전체 문제의 답을 얻는 알고리즘\n",
    "- <u>문제를 두 단계인 1)분할과 2)정복으로 나눠서 해결</u>\n",
    "- 분할한 입력에 대하여 동일한 알고리즘을 적용해 해를 계산하며 이들의 해룰 취합하여 원래 문제의 해를 얻음\n",
    "- 엄청나게 크고 방대한 문제를 조금씩 나눠가면서 용이하게 풀 수 있는 문제 단위로 나눈 다음 그것들을 다시 합쳐서 해결하자는 개념\n",
    "- <u>분할된 입력에 대한 문제를 <span style=\"color:red\">부분 문제</span>(Subproblem)라고 하고, 부분 문제의 해를 <span style=\"color:red\">부분해</span>라고 함</u>\n",
    "- 부분 문제는 더 이상 분할할 수 없을 때까지 계속 분할함\n",
    "- 점진적 개발에서 모듈 하나씩 개발하는 것도 분할 정복 개념임\n",
    "- 재귀적 구조를 가진 알고리즘에서는 대개 분할 정복 접근법을 따름\n",
    "- 문제를 쪼개는 요령이나 규칙은 없으며 개발자의 창의에 달려 있음\n",
    "- 분할 정복의 대표적인 예\n",
    "    - 병합 정렬\n",
    "    - 퀵 정렬  \n",
    "  \n",
    "\n",
    "- 분할 단계에서는 주어진 문제를 여러 개의 부분 문제들로 나눔\n",
    "- 문제가 작아지면 작아질수록 풀기 쉬워지는 성질을 이용함\n",
    "- 문제의 크기가 엄청나게 줄어든다면(n=1 or n=2 정도) 바로 답을 구할 수 있는 수준이 됨\n",
    "- 예)\n",
    "    - n개의 원소를 정렬하는 문제를 2개의 n/2 원소를 정렬하는 문제로 분할하는 것  \n",
    "  \n",
    "### 정복(Conquer)\n",
    "- 대부분의 분할 정복 알고리즘은 문제의 입력을 단순히 분할만 해서는 해를 구할 수 없음\n",
    "- 분할된 부분 문제들을 정복해야 하는데 정복이란 부분해를 찾는 것을 의미함\n",
    "- 정복하는 방법은 문제에 따라 다르나 일반적으로 부분 문제들의 해를 취합하여 보다 큰 부분 문제의 해를 구함\n",
    "- 부분 문제를 재귀적으로 풀어서 정복함\n",
    "- 부분 문제의 크기가 충분히 작으면 직접적인 방법으로 풂\n",
    "- 예)\n",
    "    - 2개의 n/2 원소를 정렬하는 문제를 각각 재귀 알고리즘으로 해결하는 것\n",
    "  \n",
    "  \n",
    "### 결합(Combine)\n",
    "- 부분 문제의 해를 결합하여 원래 문제의 해가 되도록 만듦\n",
    "- 분할되어 해결된 문제를 합치면 커다란 문제의 답이 나옴\n",
    "- 예)\n",
    "    - 2개의 정렬된 원소를 병합하는 것\n",
    "    \n",
    "  \n",
    "### 알고리즘 설계\n",
    "- 1) 분할(Divide)\n",
    "    - 문제가 분할이 가능한 경우 2개 이상의 하위 문제로 나눔\n",
    "- 2) 정복(Conquer)\n",
    "    - 하위 문제가 여전히 분할이 가능한 상태라면 하위 집합에 대해 1)을 수행하고 그렇지 않다면 하위 문제를 품\n",
    "- 3) 결합(Combine)\n",
    "    - 2)과정에서 정복된 답을 취합함\n",
    "    \n",
    "  \n",
    "### 입력크기가 n일 때 총 몇 번 분할하여야 더 이상 분할할 수 없는 크기인 1이 될까?\n",
    "답을 계산하기 위해서 총 분할한 회수 = k  \n",
    "1번 분할 후 각각의 입력 크기는 $n \\over 2$  \n",
    "2번 분할 후 각각의 입력 크기는 $n \\over 2^2$  \n",
    "...  \n",
    "k번 분할 후 각각의 입력 크기는 $n \\over 2^k$  \n",
    "→ 따라서 ${n \\over 2^k} = 1$일 때 더 이상 분할할 수 없으므로 $k = log_2n$  \n",
    "\n",
    "### 분할 정복(divide and conquer)\n",
    "- 병합 정렬은 주어진 문제를 절반으로 나눈 다음 각각을 재귀 호출로 풀어 가는 방식\n",
    "- 큰 문제를 작은 문제로 나눠서(분할하여) 푸는(정복하는) 받법을 알고리즘 설계 기법에서는 '분할 정복(divide and conquer)'이라고 부름\n",
    "- 입력 크기가 커서 풀기 어려웠던 문제도 반복해서 잘게 나누다 보면 굉장히 쉬운 문제(종료 조건)가 되는 원리를 이용한 것\n",
    "- 분할 정복은 잘 활용하면 계산 복잡도가 더 낮은 효율적인 알고리즘을 만드는 데 도움이 됨  \n",
    "  \n",
    "---"
   ]
  },
  {
   "cell_type": "markdown",
   "metadata": {},
   "source": [
    "## 10 병합 정렬(Merge Sort)\n",
    "- 입력이 2개의 부분 문제로 분할하여 부분 문제의 크기가 절반으로 감소하는 분할 정복 알고리즘\n",
    "- n개의 숫자들을 n/2개씩 2개의 부분 문제로 분할하고, 각각의 부분 문제를 재귀적으로 병합 정렬한 후,  \n",
    "2개의 정렬된 부분을 병합하여 정렬(정복)함\n",
    "- 병합 과정이 문제를 정복하는 것임\n",
    "  \n",
    "### 병합\n",
    "- 병합이란 2개의 각각 정렬된 숫자들을 1개의 정렬된 숫자들로 합치는 것  \n",
    "  \n",
    "  \n",
    "### 병합 정렬의 시간 복잡도\n",
    "- 분할하는 부분은 배열의 중간 인덱스 계산과 2번의 재귀 호출이므로 O(1) 시간 소요\n",
    "- 병합의 수행 시간은 입력의 크기에 비례하고 만약 2개의 정렬된 배열 A와 B의 크기가 각각 n과 m이라면 최대 비교 횟수는(n+m-1)\n",
    "- 각 층을 살펴보면 모든 숫자가 합병에 참여\n",
    "- 합병은 입력 크기에 비례하므로 각 층에서 수행된 비교 횟수는 O(n)\n",
    "\n",
    "  \n",
    "### 병합 정렬의 시간복잡도\n",
    "- 입력의 크기가 n일 때 k개의 층이 만들어짐\n",
    "- 여기서 $k = log_2n$\n",
    "- 병합 정렬의 시간 복잡도\n",
    "    > $(층수) * O(n) = log_2n * O(n) = O(nlogn)$\n",
    "\n",
    "  \n",
    "### 병합 정렬의 단점\n",
    "- 병합 정렬의 공간 복잡도: O(n)\n",
    "- 입력을 위한 메모리 공간(입력 배열) 외에 추가로 입력과 같은 크기의 공간(임시 배열)이 별도로 필요\n",
    "- 2개의 정렬된 부분을 하나로 합병하기 위해 병합된 결과를 저장할 곳이 필요하기 때문"
   ]
  },
  {
   "cell_type": "code",
   "execution_count": 8,
   "metadata": {},
   "outputs": [
    {
     "name": "stdout",
     "output_type": "stream",
     "text": [
      "[1, 2, 3, 4, 5, 6, 7, 8, 9, 10]\n"
     ]
    }
   ],
   "source": [
    "# 쉽게 설명한 병합 정렬\n",
    "# 입력: 리스트a\n",
    "# 출력: 정렬된 새 리스트\n",
    "\n",
    "def merge_sort(a):\n",
    "    \n",
    "    n = len(a)\n",
    "    \n",
    "    # 종료 조건: 정렬할 리스트의 자료 개수가 한 개 이하이면 정렬할 필요 없음\n",
    "    if n <= 1:\n",
    "        return a\n",
    "    \n",
    "    # 그룹을 나누어 각각 병합 정렬을 호출하는 과정\n",
    "    mid = n//2                 # 중간을 기준으로 두 그룹으로 나눔\n",
    "    g1 = merge_sort(a[:mid])   # 재귀 호출로 첫 번째 그룹을 정렬\n",
    "    #print(\"g1재귀호출끝\",g1)\n",
    "    g2 = merge_sort(a[mid:])   # 재귀 호출로 두 번째 그룹을 정렬\n",
    "    #print(\"g2재귀호출끝\",g2)\n",
    "    \n",
    "    # 두 그룹을 하나로 병합\n",
    "    result = []              # 두 그룹을 합쳐 만들 최종 결과\n",
    "    while g1 and g2:        # 두 그룹에 모두 자료가 남아 있는 동안 반복\n",
    "        if g1[0] < g2[0]:   # 두 그룹의 맨 앞 자료 값을 비교\n",
    "            # g1 값이 더 작으면 그 값을 빼내어 결과로 추가\n",
    "            result.append(g1.pop(0))\n",
    "        else:\n",
    "            # g2 값이 더 작으면 그 값을 빼내어 결과로 추가\n",
    "            result.append(g2.pop(0))\n",
    "    \n",
    "    # 아직 남아 있는 자료들을 결과에 추가\n",
    "    # g1과 g2 중 이미 빈 것은 while을 바로 지나감\n",
    "    while g1:\n",
    "        result.append(g1.pop(0))\n",
    "    while g2:\n",
    "        result.append(g2.pop(0))\n",
    "    \n",
    "    #print(result)\n",
    "    \n",
    "    return result\n",
    "\n",
    "d = [6,8,3,9,10,1,2,4,7,5]\n",
    "print(merge_sort(d))"
   ]
  },
  {
   "cell_type": "code",
   "execution_count": 11,
   "metadata": {},
   "outputs": [
    {
     "name": "stdout",
     "output_type": "stream",
     "text": [
      "[1, 2, 3, 4, 5, 6, 7, 8, 9, 10]\n"
     ]
    }
   ],
   "source": [
    "# 병합 정렬\n",
    "# 입력: 리스트a\n",
    "# 출력: 없음(입력으로 주어진 a가 정렬됨)\n",
    "\n",
    "def merge_sort(a):\n",
    "    n = len(a)\n",
    "    \n",
    "    # 종료 조건: 정렬할 리스트의 자료 개수가 한 개 이하이면 정렬할 필요가 없음\n",
    "    if n <= 1:\n",
    "        return\n",
    "    \n",
    "    # 그룹을 나누어 각각 병합 정렬을 호출하는 과정\n",
    "    mid = n // 2   # 중간을 기준으로 두 그룹으로 나눔\n",
    "    g1 = a[:mid]\n",
    "    g2 = a[mid:]\n",
    "    merge_sort(g1)    # 재귀 호출로 첫 번째 그룹을 정렬\n",
    "    merge_sort(g2)    # 재귀 호출로 두 번째 그룹을 정렬\n",
    "    # 두 그룹을 하나로 병합\n",
    "    i1 = 0\n",
    "    i2 = 0\n",
    "    ia = 0\n",
    "    while i1 < len(g1) and i2 < len(g2):\n",
    "        if g1[i1] < g2[i2]:\n",
    "            a[ia] = g1[i1]\n",
    "            i1 += 1\n",
    "            ia += 1\n",
    "        else:\n",
    "            a[ia] = g2[i2]\n",
    "            i2 += 1\n",
    "            ia += 1\n",
    "            \n",
    "    # 아직 남아 있는 자료들을 결과에 추가\n",
    "    while i1 < len(g1):\n",
    "        a[ia] = g1[i1]\n",
    "        i1 += 1\n",
    "        ia += 1\n",
    "    while i2 < len(g2):\n",
    "        a[ia] = g2[i2]\n",
    "        i2 += 1\n",
    "        ia += 1\n",
    "        \n",
    "d = [6,8,3,9,10,1,2,4,7,5]\n",
    "merge_sort(d)\n",
    "print(d)"
   ]
  },
  {
   "cell_type": "markdown",
   "metadata": {},
   "source": [
    "#### 연습 문제\n",
    "10-1. 내림차순 정렬로 바꾸시오"
   ]
  },
  {
   "cell_type": "code",
   "execution_count": 12,
   "metadata": {},
   "outputs": [
    {
     "name": "stdout",
     "output_type": "stream",
     "text": [
      "[10, 9, 8, 7, 6, 5, 4, 3, 2, 1]\n"
     ]
    }
   ],
   "source": [
    "# 병합 정렬\n",
    "# 입력: 리스트a\n",
    "# 출력: 없음(입력으로 주어진 a가 정렬됨)\n",
    "\n",
    "def merge_sort(a):\n",
    "    n = len(a)\n",
    "    \n",
    "    if n <= 1:\n",
    "        return\n",
    "    \n",
    "    mid = n // 2\n",
    "    g1 = a[:mid]\n",
    "    g2 = a[mid:]\n",
    "    merge_sort(g1)\n",
    "    merge_sort(g2)\n",
    "    \n",
    "    i1 = 0\n",
    "    i2 = 0\n",
    "    ia = 0\n",
    "    while i1 < len(g1) and i2 < len(g2):\n",
    "        if g1[i1] > g2[i2]:         # 이 부분만 부등호 방향 바꾸면 됨\n",
    "            a[ia] = g1[i1]\n",
    "            i1 += 1\n",
    "            ia += 1\n",
    "        else:\n",
    "            a[ia] = g2[i2]\n",
    "            i2 += 1\n",
    "            ia += 1\n",
    "            \n",
    "    while i1 < len(g1):\n",
    "        a[ia] = g1[i1]\n",
    "        i1 += 1\n",
    "        ia += 1\n",
    "    while i2 < len(g2):\n",
    "        a[ia] = g2[i2]\n",
    "        i2 += 1\n",
    "        ia += 1\n",
    "        \n",
    "d = [6,8,3,9,10,1,2,4,7,5]\n",
    "merge_sort(d)\n",
    "print(d)"
   ]
  },
  {
   "cell_type": "markdown",
   "metadata": {},
   "source": [
    "## 11 퀵 정렬\n",
    "- 기준 키를 기준으로 작거나 같은 값을 지닌 데이터는 앞으로, 큰 값을 지닌 데이터는 뒤로\n",
    "- 평균적으로 가장 좋은 성능"
   ]
  },
  {
   "cell_type": "code",
   "execution_count": 15,
   "metadata": {},
   "outputs": [
    {
     "name": "stdout",
     "output_type": "stream",
     "text": [
      "[1, 2, 3, 4, 5, 6, 7, 8, 9, 10]\n"
     ]
    }
   ],
   "source": [
    "# 쉽게 설명한 퀵 정렬\n",
    "# 입력: 리스트a\n",
    "# 출력: 정렬된 새 리스트\n",
    "\n",
    "def quick_sort(a):\n",
    "    n = len(a)\n",
    "    \n",
    "    # 종료 조건: 정렬할 리스트의 자료 개수가 한 개 이하이면 정렬할 필요 없음\n",
    "    if n <= 1:\n",
    "        return a\n",
    "    \n",
    "    # 기준 값을 정하고 기준에 맞춰 그룹을 나누는 과정\n",
    "    pivot = a[-1]    # 편의상 리스트의 마지막 값을 기준 값으로 정함\n",
    "    g1 = []          # 그룹 1: 기준 값보다 작은 값을 담을 리스트\n",
    "    g2 = []          # 그룹 2: 기준 값보다 큰 값을 담을 리스트\n",
    "    \n",
    "    for i in range(0, n-1):    # 마지막 값은 기준 값이므로 제외\n",
    "        if a[i] < pivot:       # 기준 값과 비교\n",
    "            g1.append(a[i])    # 작으면 g1과 비교\n",
    "        else:\n",
    "            g2.append(a[i])    # 크면 g2에 추가\n",
    "            \n",
    "    # 각 그룹에 대해 재귀 호출로 퀵 정렬을 한 후\n",
    "    # 기준 값과 합쳐 하나의 리스트로 결괏값 반환\n",
    "    return quick_sort(g1) + [pivot] + quick_sort(g2)\n",
    "\n",
    "d = [6,8,3,9,10,1,2,4,7,5]\n",
    "print(quick_sort(d))"
   ]
  },
  {
   "cell_type": "code",
   "execution_count": 16,
   "metadata": {},
   "outputs": [
    {
     "name": "stdout",
     "output_type": "stream",
     "text": [
      "[1, 2, 3, 4, 5, 6, 7, 8, 9, 10]\n"
     ]
    }
   ],
   "source": [
    "# 퀵 정렬\n",
    "# 입력: 리스트a\n",
    "# 출력: 없음(입력으로 주어진 a가 정렬됨)\n",
    "# 리스트 a에서 어디부터(start) 어디까지(end)가 정렬 대상인지\n",
    "# 범위를 지정하여 정렬하는 재귀 호출 함수\n",
    "\n",
    "def quick_sort_sub(a, start, end):\n",
    "    # 종료 조건: 정렬 대상이 한 개 이하이면 정렬할 필요가 없음\n",
    "    if end - start <= 0:\n",
    "        return\n",
    "    \n",
    "    # 기준 값을 정하고 기준 값에 맞춰 리스트 안에서 각 자료의 위치를 맞춤\n",
    "    # [기준 값보다 작은 값들, 기준 값, 기준 값보다 큰 값들]\n",
    "    pivot = a[end]        # 편의상 리스트의 마지막 값을 기준 값으로 정함\n",
    "    i = start\n",
    "    for j in range(start, end):\n",
    "        if a[j] <= pivot:              # 기준값보다 작으면\n",
    "            a[i], a[j] = a[j], a[i]    # 자리를 바꾼다.\n",
    "            i += 1                # i인덱스는 자리를 바꿀 때 다음으로 인덱스로 넘어간다(사실상 기준값보다 작은 수를 카운트하는 역할)\n",
    "    a[i], a[end] = a[end], a[i]   # 비교가 끝난 후 기준값과 자리를 바꾸어 기준값이 중간에 들어가도록 함\n",
    "    \n",
    "    # 재귀 호출 부분\n",
    "    quick_sort_sub(a, start, i-1)    # 기준 값보다 작은 그룹을 재귀 호출로 다시 정렬\n",
    "    quick_sort_sub(a, i+1, end)      # 기준 값보다 큰 그룹을 재귀 호출로 다시 정렬\n",
    "    \n",
    "# 리스트 전체(0 ~ len(a)-1)를 대상으로 재귀 호출 함수 호출\n",
    "def quick_sort(a):\n",
    "    quick_sort_sub(a, 0, len(a)-1)\n",
    "    \n",
    "d = [6,8,3,9,10,1,2,4,7,5]\n",
    "quick_sort(d)\n",
    "print(d)"
   ]
  },
  {
   "cell_type": "markdown",
   "metadata": {},
   "source": [
    "#### 연습 문제\n",
    "11-1. 거품 정렬(Bubble sort)을 이용하여 리스트[2,4,5,1,3]이 정렬되는 과정을 알고리즘으로 적어보시오"
   ]
  },
  {
   "cell_type": "markdown",
   "metadata": {},
   "source": [
    "[2 4 5 1 3]  1,2 비교  \n",
    "[2 4 5 1 3]  2,3 비교  \n",
    "[2 4 5 1 3]  3,4 비교  \n",
    "[2 4 1 5 3]  4,5 비교  \n",
    "[2 4 1 3 5]  1,2  \n",
    "  \n",
    "[2 4 1 3 5]  2  \n",
    "[2 1 4 3 5]  3  \n",
    "[2 1 3 4 5]  4  \n",
    "[2 1 3 4 5]  1  \n",
    "  \n",
    "[2 1 3 4 5]  2  \n",
    "[2 1 3 4 5]  3  \n",
    "[2 1 3 4 5]  4  \n",
    "[2 1 3 4 5]  1  \n",
    "  \n",
    "[1 2 3 4 5]  최종"
   ]
  },
  {
   "cell_type": "code",
   "execution_count": 17,
   "metadata": {},
   "outputs": [
    {
     "name": "stdout",
     "output_type": "stream",
     "text": [
      "[2, 4, 5, 1, 3]\n",
      "[2, 4, 1, 5, 3]\n",
      "[2, 4, 1, 3, 5]\n",
      "[2, 1, 4, 3, 5]\n",
      "[2, 1, 3, 4, 5]\n",
      "[1, 2, 3, 4, 5]\n"
     ]
    }
   ],
   "source": [
    "# 거품 정렬\n",
    "# 입력: 리스트 a\n",
    "# 출력: 없음(입력으로 주어진 a가 정렬됨)\n",
    "\n",
    "def bubble_sort(a):\n",
    "    n = len(a)\n",
    "    while True:             # 정렬이 완료될 때까지 계속 수행\n",
    "        changed = False     # 자료를 앞뒤로 바꾸었는지 여부\n",
    "        # 자료를 훑어보면서 뒤집힌 자료가 있으면 바꾸고, 바뀌었다고 표시\n",
    "        for i in range(0, n-1):\n",
    "            if a[i] > a[i+1]:  # 앞이 뒤보다 크면\n",
    "                print(a)       # 정렬 과정 출력(참고용)\n",
    "                a[i], a[i+1] = a[i+1], a[i]    # 두 자료의 위치를 맞바꿈\n",
    "                changed = True    # 자료가 앞뒤로 바뀌었음을 기록\n",
    "        # 자료를 한 번 훑어 보는 동안 바뀐 적이 없다면 정렬이 완성된 것이므로 종료\n",
    "        # 바뀐 적이 있으면 다시 앞에서부터 비교 반복\n",
    "        if changed == False:\n",
    "            return\n",
    "        \n",
    "d = [2,4,5,1,3]\n",
    "bubble_sort(d)\n",
    "print(d)"
   ]
  },
  {
   "cell_type": "code",
   "execution_count": null,
   "metadata": {},
   "outputs": [],
   "source": []
  }
 ],
 "metadata": {
  "kernelspec": {
   "display_name": "Python 3",
   "language": "python",
   "name": "python3"
  },
  "language_info": {
   "codemirror_mode": {
    "name": "ipython",
    "version": 3
   },
   "file_extension": ".py",
   "mimetype": "text/x-python",
   "name": "python",
   "nbconvert_exporter": "python",
   "pygments_lexer": "ipython3",
   "version": "3.8.5"
  },
  "vp": {
   "base_numbering": 1,
   "nav_menu": {},
   "number_sections": true,
   "sideBar": true,
   "title_cell": "VisualPython",
   "title_sidebar": "VisualPython",
   "vpPosition": {
    "height": "calc(100% - 180px)",
    "right": "10px",
    "top": "110px",
    "width": "50%"
   },
   "vp_cell": false,
   "vp_section_display": true,
   "vp_window_display": false
  }
 },
 "nbformat": 4,
 "nbformat_minor": 4
}
