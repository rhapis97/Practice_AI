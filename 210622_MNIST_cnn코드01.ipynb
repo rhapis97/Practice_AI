{
  "nbformat": 4,
  "nbformat_minor": 0,
  "metadata": {
    "colab": {
      "name": "210622_MNIST_cnn코드01.ipynb",
      "provenance": [],
      "collapsed_sections": []
    },
    "kernelspec": {
      "name": "python3",
      "display_name": "Python 3"
    },
    "language_info": {
      "name": "python"
    }
  },
  "cells": [
    {
      "cell_type": "code",
      "metadata": {
        "id": "EIYIXONal_cI"
      },
      "source": [
        "from __future__ import print_function\n",
        "import keras\n",
        "from keras.datasets import mnist\n",
        "from keras.models import Sequential\n",
        "from keras.layers import Dense, Dropout, Flatten\n",
        "from keras.layers import Conv2D, MaxPooling2D\n",
        "from keras import backend as K"
      ],
      "execution_count": 21,
      "outputs": []
    },
    {
      "cell_type": "code",
      "metadata": {
        "id": "06ebdap3mSvh"
      },
      "source": [
        "import matplotlib.pyplot as plt"
      ],
      "execution_count": 22,
      "outputs": []
    },
    {
      "cell_type": "code",
      "metadata": {
        "id": "mzpPNMNAmZxG"
      },
      "source": [
        "img_rows, img_cols = 28, 28         # 사이즈"
      ],
      "execution_count": 23,
      "outputs": []
    },
    {
      "cell_type": "code",
      "metadata": {
        "id": "FhXpKpWZmej5"
      },
      "source": [
        "# 데이터셋 분리\n",
        "(x_train, y_train), (x_test, y_test) = mnist.load_data()    # x는 실제 이미지 저장, y는 이미지에 대한 숫자"
      ],
      "execution_count": 24,
      "outputs": []
    },
    {
      "cell_type": "code",
      "metadata": {
        "colab": {
          "base_uri": "https://localhost:8080/"
        },
        "id": "5yL0mDJWnfKO",
        "outputId": "a798878b-6109-45a5-9ce6-810501bb4db7"
      },
      "source": [
        "print(K.image_data_format())"
      ],
      "execution_count": 25,
      "outputs": [
        {
          "output_type": "stream",
          "text": [
            "channels_last\n"
          ],
          "name": "stdout"
        }
      ]
    },
    {
      "cell_type": "code",
      "metadata": {
        "id": "iDQQRtnVni4B"
      },
      "source": [
        "x_train = x_train.reshape(x_train.shape[0], img_rows, img_cols, 1)    # 개수, 행, 열, 채널(1: 흑백)\n",
        "x_test = x_test.reshape(x_test.shape[0], img_rows, img_cols, 1)\n",
        "\n",
        "input_shape = (img_rows, img_cols, 1)    #  행, 열, 채널(1: 흑백)"
      ],
      "execution_count": 26,
      "outputs": []
    },
    {
      "cell_type": "code",
      "metadata": {
        "id": "OT1dwGrRoODE"
      },
      "source": [
        "# type 변경 - 부동소수점을 표현하기 위해\n",
        "x_train = x_train.astype('float32')\n",
        "x_test = x_test.astype('float32')"
      ],
      "execution_count": 27,
      "outputs": []
    },
    {
      "cell_type": "code",
      "metadata": {
        "colab": {
          "base_uri": "https://localhost:8080/"
        },
        "id": "yscTWG8Ko2Ot",
        "outputId": "cc05edb0-6918-42b5-dd57-9fba0b54cd8a"
      },
      "source": [
        "# 정규화\n",
        "x_train/=255\n",
        "x_test/=255\n",
        "\n",
        "print('x_train shape:',x_train.shape)\n",
        "print(x_train.shape[0], 'trainsamples')\n",
        "print(x_test.shape[0], 'test samples')"
      ],
      "execution_count": 28,
      "outputs": [
        {
          "output_type": "stream",
          "text": [
            "x_train shape: (60000, 28, 28, 1)\n",
            "60000 trainsamples\n",
            "10000 test samples\n"
          ],
          "name": "stdout"
        }
      ]
    },
    {
      "cell_type": "markdown",
      "metadata": {
        "id": "Sx4s0zZgpSsJ"
      },
      "source": [
        "전체 60000개, 28by28, 흑백"
      ]
    },
    {
      "cell_type": "code",
      "metadata": {
        "id": "Y0hsA76Vp0Da"
      },
      "source": [
        "import tensorflow as tf"
      ],
      "execution_count": 29,
      "outputs": []
    },
    {
      "cell_type": "code",
      "metadata": {
        "id": "H63BG_dWpQks"
      },
      "source": [
        "# 범주화(one-hot encoding)\n",
        "y_train = tf.keras.utils.to_categorical(y_train, 10)    # 10개 구간으로 나눔\n",
        "y_test = tf.keras.utils.to_categorical(y_test, 10)"
      ],
      "execution_count": 30,
      "outputs": []
    },
    {
      "cell_type": "code",
      "metadata": {
        "id": "uEYIcjhHp2gJ"
      },
      "source": [
        "# 모델링(modeling) - 출력층: 0-9\n",
        "# sequential()을 쓰면 model.add()해서 층을 쌓으면 됨\n",
        "# functional()을 쓰면 x=2, f(x) = x + 2(=4), g(x) = 3f(x)(=12)와 같이 x가 계속 업데이트 되는 형태\n",
        "\n",
        "model = Sequential()\n",
        "model.add(Conv2D(32, kernel_size=(3,3), activation='relu', input_shape=input_shape))    # 노드 수, 3*3짜리 필터, 활성화함수: 렐루, 첫 입력층input_shape"
      ],
      "execution_count": 31,
      "outputs": []
    },
    {
      "cell_type": "code",
      "metadata": {
        "id": "FMlPMClErNMF"
      },
      "source": [
        "model.add(Conv2D(64, (3,3), activation='relu'))\n",
        "model.add(MaxPooling2D(pool_size=(2,2)))    # 2*2로 맥스풀링(가로 세로 절반으로 축소, 특징값만 추출)"
      ],
      "execution_count": 32,
      "outputs": []
    },
    {
      "cell_type": "code",
      "metadata": {
        "id": "AjW2qFzfrZ1b"
      },
      "source": [
        "model.add(Dropout(0.25))    # 다음 컨볼루션 가기 전에 드롭아웃\n",
        "model.add(Flatten())        # 3차원 >> 1차원(전처리 끝남)\n",
        "model.add(Dense(128, activation='relu'))\n",
        "model.add(Dropout(0.5))\n",
        "\n",
        "# 출력층(0 ~ 9)\n",
        "model.add(Dense(10, activation='softmax'))"
      ],
      "execution_count": 33,
      "outputs": []
    },
    {
      "cell_type": "code",
      "metadata": {
        "colab": {
          "base_uri": "https://localhost:8080/"
        },
        "id": "OuVpy1e1sV0I",
        "outputId": "3909d51a-cfad-4031-b267-1be66f0aeb45"
      },
      "source": [
        "model.summary()"
      ],
      "execution_count": 34,
      "outputs": [
        {
          "output_type": "stream",
          "text": [
            "Model: \"sequential_1\"\n",
            "_________________________________________________________________\n",
            "Layer (type)                 Output Shape              Param #   \n",
            "=================================================================\n",
            "conv2d_2 (Conv2D)            (None, 26, 26, 32)        320       \n",
            "_________________________________________________________________\n",
            "conv2d_3 (Conv2D)            (None, 24, 24, 64)        18496     \n",
            "_________________________________________________________________\n",
            "max_pooling2d_1 (MaxPooling2 (None, 12, 12, 64)        0         \n",
            "_________________________________________________________________\n",
            "dropout_2 (Dropout)          (None, 12, 12, 64)        0         \n",
            "_________________________________________________________________\n",
            "flatten_1 (Flatten)          (None, 9216)              0         \n",
            "_________________________________________________________________\n",
            "dense_2 (Dense)              (None, 128)               1179776   \n",
            "_________________________________________________________________\n",
            "dropout_3 (Dropout)          (None, 128)               0         \n",
            "_________________________________________________________________\n",
            "dense_3 (Dense)              (None, 10)                1290      \n",
            "=================================================================\n",
            "Total params: 1,199,882\n",
            "Trainable params: 1,199,882\n",
            "Non-trainable params: 0\n",
            "_________________________________________________________________\n"
          ],
          "name": "stdout"
        }
      ]
    },
    {
      "cell_type": "code",
      "metadata": {
        "id": "rA8hNBQvtKNW"
      },
      "source": [
        "# 환경설정(model 학습)\n",
        "model.compile(loss = keras.losses.categorical_crossentropy,\n",
        "              optimizer = 'adam',\n",
        "              metrics = ['accuracy'])"
      ],
      "execution_count": 35,
      "outputs": []
    },
    {
      "cell_type": "code",
      "metadata": {
        "colab": {
          "base_uri": "https://localhost:8080/"
        },
        "id": "1Qzl5YZRtf3F",
        "outputId": "89cc41e0-dbdc-4221-f382-76c0fb17d8d9"
      },
      "source": [
        "# 학습\n",
        "history = model.fit(x_train, y_train,\n",
        "                    batch_size = 128,    # 128개의 학습 데이터를 처리할 때마다 내부 계수를 업데이트\n",
        "                    epochs = 12,\n",
        "                    verbose = 1,\n",
        "                    validation_data = (x_test, y_test))"
      ],
      "execution_count": 36,
      "outputs": [
        {
          "output_type": "stream",
          "text": [
            "Epoch 1/12\n",
            "469/469 [==============================] - 5s 10ms/step - loss: 0.4931 - accuracy: 0.8426 - val_loss: 0.0528 - val_accuracy: 0.9834\n",
            "Epoch 2/12\n",
            "469/469 [==============================] - 4s 9ms/step - loss: 0.0888 - accuracy: 0.9737 - val_loss: 0.0375 - val_accuracy: 0.9879\n",
            "Epoch 3/12\n",
            "469/469 [==============================] - 4s 9ms/step - loss: 0.0661 - accuracy: 0.9800 - val_loss: 0.0312 - val_accuracy: 0.9906\n",
            "Epoch 4/12\n",
            "469/469 [==============================] - 4s 9ms/step - loss: 0.0533 - accuracy: 0.9831 - val_loss: 0.0328 - val_accuracy: 0.9897\n",
            "Epoch 5/12\n",
            "469/469 [==============================] - 4s 9ms/step - loss: 0.0436 - accuracy: 0.9865 - val_loss: 0.0292 - val_accuracy: 0.9899\n",
            "Epoch 6/12\n",
            "469/469 [==============================] - 4s 9ms/step - loss: 0.0390 - accuracy: 0.9881 - val_loss: 0.0281 - val_accuracy: 0.9909\n",
            "Epoch 7/12\n",
            "469/469 [==============================] - 4s 9ms/step - loss: 0.0316 - accuracy: 0.9906 - val_loss: 0.0258 - val_accuracy: 0.9920\n",
            "Epoch 8/12\n",
            "469/469 [==============================] - 4s 9ms/step - loss: 0.0284 - accuracy: 0.9910 - val_loss: 0.0290 - val_accuracy: 0.9920\n",
            "Epoch 9/12\n",
            "469/469 [==============================] - 4s 9ms/step - loss: 0.0278 - accuracy: 0.9916 - val_loss: 0.0266 - val_accuracy: 0.9922\n",
            "Epoch 10/12\n",
            "469/469 [==============================] - 4s 9ms/step - loss: 0.0238 - accuracy: 0.9923 - val_loss: 0.0273 - val_accuracy: 0.9924\n",
            "Epoch 11/12\n",
            "469/469 [==============================] - 4s 9ms/step - loss: 0.0239 - accuracy: 0.9924 - val_loss: 0.0295 - val_accuracy: 0.9912\n",
            "Epoch 12/12\n",
            "469/469 [==============================] - 4s 9ms/step - loss: 0.0221 - accuracy: 0.9927 - val_loss: 0.0283 - val_accuracy: 0.9928\n"
          ],
          "name": "stdout"
        }
      ]
    },
    {
      "cell_type": "code",
      "metadata": {
        "id": "iCwPztjnuDMw"
      },
      "source": [
        "score = model.evaluate(x_test, y_test, verbose=0)    # 평가는 테스트 데이터로"
      ],
      "execution_count": 37,
      "outputs": []
    },
    {
      "cell_type": "code",
      "metadata": {
        "colab": {
          "base_uri": "https://localhost:8080/"
        },
        "id": "e-lfAdXkuMrV",
        "outputId": "1e88c010-1e38-487b-fbc2-2e5323a1455d"
      },
      "source": [
        "print('Test loss:', score[0])\n",
        "print('Test accuracy:', score[1])"
      ],
      "execution_count": 38,
      "outputs": [
        {
          "output_type": "stream",
          "text": [
            "Test loss: 0.02829728089272976\n",
            "Test accuracy: 0.9927999973297119\n"
          ],
          "name": "stdout"
        }
      ]
    },
    {
      "cell_type": "code",
      "metadata": {
        "colab": {
          "base_uri": "https://localhost:8080/"
        },
        "id": "-4rX7aOAuZQk",
        "outputId": "1bc4ece1-6a99-43f4-95d4-60b5ad2a1aa1"
      },
      "source": [
        "print(history.history.keys())"
      ],
      "execution_count": 39,
      "outputs": [
        {
          "output_type": "stream",
          "text": [
            "dict_keys(['loss', 'accuracy', 'val_loss', 'val_accuracy'])\n"
          ],
          "name": "stdout"
        }
      ]
    },
    {
      "cell_type": "code",
      "metadata": {
        "colab": {
          "base_uri": "https://localhost:8080/",
          "height": 295
        },
        "id": "v54q1zAlvgpD",
        "outputId": "1050e3c2-2760-4f13-e6c3-87be5698a9f4"
      },
      "source": [
        "plt.plot(history.history['accuracy'])      # 정확도 그래프 그리기\n",
        "plt.plot(history.history['val_accuracy'])  # 테스트 데이터 정확도 그래프 그리기\n",
        "plt.title('model accuracy')\n",
        "plt.ylabel('accuracy')\n",
        "plt.xlabel('epoch')\n",
        "plt.legend(['train', 'test'], loc='upper right')\n",
        "plt.show()"
      ],
      "execution_count": 40,
      "outputs": [
        {
          "output_type": "display_data",
          "data": {
            "image/png": "[encoded data removed]",
            "text/plain": [
              "<Figure size 432x288 with 1 Axes>"
            ]
          },
          "metadata": {
            "tags": [],
            "needs_background": "light"
          }
        }
      ]
    },
    {
      "cell_type": "code",
      "metadata": {
        "colab": {
          "base_uri": "https://localhost:8080/",
          "height": 295
        },
        "id": "pf2Q_yaNv9HU",
        "outputId": "35122553-95f4-4b32-ce97-018c501d0782"
      },
      "source": [
        "plt.plot(history.history['loss'])\n",
        "plt.plot(history.history['val_loss'])\n",
        "plt.title('model loss')\n",
        "plt.ylabel('loss')\n",
        "plt.xlabel('epoch')\n",
        "plt.legend(['train', 'test'], loc='upper right')\n",
        "plt.show()"
      ],
      "execution_count": 41,
      "outputs": [
        {
          "output_type": "display_data",
          "data": {
            "image/png": "[encoded data removed]",
            "text/plain": [
              "<Figure size 432x288 with 1 Axes>"
            ]
          },
          "metadata": {
            "tags": [],
            "needs_background": "light"
          }
        }
      ]
    },
    {
      "cell_type": "code",
      "metadata": {
        "colab": {
          "base_uri": "https://localhost:8080/"
        },
        "id": "ecdiIUHywQ4W",
        "outputId": "e05c0b94-bc30-4e71-c69c-d36649ab88f3"
      },
      "source": [
        "model.save('mnist_cnn.h5')\n",
        "print('saved')"
      ],
      "execution_count": 42,
      "outputs": [
        {
          "output_type": "stream",
          "text": [
            "saved\n"
          ],
          "name": "stdout"
        }
      ]
    }
  ]
}