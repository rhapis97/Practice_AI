{
  "nbformat": 4,
  "nbformat_minor": 0,
  "metadata": {
    "colab": {
      "name": "20210629_cifar10.ipynb",
      "provenance": [],
      "collapsed_sections": [],
      "authorship_tag": "ABX9TyMydWt0Cogfk8b+8Z6WkGEJ",
      "include_colab_link": true
    },
    "kernelspec": {
      "name": "python3",
      "display_name": "Python 3"
    },
    "language_info": {
      "name": "python"
    },
    "accelerator": "GPU"
  },
  "cells": [
    {
      "cell_type": "markdown",
      "metadata": {
        "id": "view-in-github",
        "colab_type": "text"
      },
      "source": [
        "<a href=\"https://colab.research.google.com/github/rhapis97/Practice_AI/blob/main/20210629_cifar10.ipynb\" target=\"_parent\"><img src=\"https://colab.research.google.com/assets/colab-badge.svg\" alt=\"Open In Colab\"/></a>"
      ]
    },
    {
      "cell_type": "code",
      "metadata": {
        "id": "zYT3JkT_WvUm"
      },
      "source": [
        "import warnings\n",
        "warnings.filterwarnings('ignore')"
      ],
      "execution_count": 1,
      "outputs": []
    },
    {
      "cell_type": "code",
      "metadata": {
        "id": "D7Sm6J9BWxMa"
      },
      "source": [
        "from keras.datasets import cifar10\n",
        "from tensorflow.keras.utils import to_categorical"
      ],
      "execution_count": 2,
      "outputs": []
    },
    {
      "cell_type": "code",
      "metadata": {
        "colab": {
          "base_uri": "https://localhost:8080/"
        },
        "id": "Zw_lWmVDWziH",
        "outputId": "25115496-a91f-48a3-a578-02d4592b27af"
      },
      "source": [
        "# data 분할(computer vision, data split: images, labels)\n",
        "(train_images, train_labels), (test_images, test_labels) = cifar10.load_data()"
      ],
      "execution_count": 3,
      "outputs": [
        {
          "output_type": "stream",
          "text": [
            "Downloading data from https://www.cs.toronto.edu/~kriz/cifar-10-python.tar.gz\n",
            "170500096/170498071 [==============================] - 2s 0us/step\n",
            "170508288/170498071 [==============================] - 2s 0us/step\n"
          ],
          "name": "stdout"
        }
      ]
    },
    {
      "cell_type": "code",
      "metadata": {
        "id": "TaW4cNEKW8N2"
      },
      "source": [
        "# 정규화\n",
        "train_images = train_images.astype('float32') / 255\n",
        "test_images = test_images.astype('float32') / 255"
      ],
      "execution_count": 4,
      "outputs": []
    },
    {
      "cell_type": "code",
      "metadata": {
        "id": "f-cDw8QKXUso"
      },
      "source": [
        "train_labels = to_categorical(train_labels)\n",
        "test_labels = to_categorical(test_labels)"
      ],
      "execution_count": 5,
      "outputs": []
    },
    {
      "cell_type": "code",
      "metadata": {
        "id": "8gxgWuzkXnL6"
      },
      "source": [
        "# 모델링\n",
        "from keras.models import Sequential\n",
        "from keras.layers import Conv2D, Flatten, MaxPooling2D, Dense, Dropout\n",
        "from keras.layers.normalization import BatchNormalization"
      ],
      "execution_count": 6,
      "outputs": []
    },
    {
      "cell_type": "code",
      "metadata": {
        "id": "ojM_f-raYSUx"
      },
      "source": [
        "model = Sequential()\n",
        "\n",
        "model.add(Conv2D(32, kernel_size=(3,3), padding='same', input_shape=(32,32,3), activation='relu'))\n",
        "model.add(BatchNormalization())\n",
        "\n",
        "model.add(Conv2D(32, kernel_size=(3,3), padding='same', activation='relu'))\n",
        "model.add(BatchNormalization())\n",
        "\n",
        "model.add(MaxPooling2D(pool_size=2))   # 반띵\n",
        "\n",
        "model.add(Dropout(0.2))"
      ],
      "execution_count": 7,
      "outputs": []
    },
    {
      "cell_type": "code",
      "metadata": {
        "id": "_HXHQU1bZh-n"
      },
      "source": [
        "model.add(Conv2D(64, kernel_size=(3,3), padding='same', activation='relu'))\n",
        "model.add(BatchNormalization())\n",
        "\n",
        "model.add(Conv2D(64, kernel_size=(3,3), padding='same', activation='relu'))\n",
        "model.add(BatchNormalization())\n",
        "\n",
        "model.add(MaxPooling2D(pool_size=2))   # 반띵\n",
        "\n",
        "model.add(Dropout(0.3))"
      ],
      "execution_count": 8,
      "outputs": []
    },
    {
      "cell_type": "code",
      "metadata": {
        "id": "C0lT_iGMZyIq"
      },
      "source": [
        "model.add(Conv2D(128, kernel_size=(3,3), padding='same', activation='relu'))\n",
        "model.add(BatchNormalization())\n",
        "\n",
        "model.add(Conv2D(128, kernel_size=(3,3), padding='same', activation='relu'))\n",
        "model.add(BatchNormalization())\n",
        "\n",
        "model.add(MaxPooling2D(pool_size=2))   # 반띵\n",
        "\n",
        "model.add(Dropout(0.4))"
      ],
      "execution_count": 9,
      "outputs": []
    },
    {
      "cell_type": "code",
      "metadata": {
        "id": "D3uOov83Z3zq"
      },
      "source": [
        "model.add(Flatten())"
      ],
      "execution_count": 10,
      "outputs": []
    },
    {
      "cell_type": "code",
      "metadata": {
        "id": "sMj1HKUwaBDG"
      },
      "source": [
        "model.add(Dense(512, activation='relu'))"
      ],
      "execution_count": 11,
      "outputs": []
    },
    {
      "cell_type": "code",
      "metadata": {
        "id": "mqcGSYwwaFgP"
      },
      "source": [
        "# 10개로 다중분류: softmax()\n",
        "model.add(Dense(10, activation='softmax'))"
      ],
      "execution_count": 12,
      "outputs": []
    },
    {
      "cell_type": "code",
      "metadata": {
        "id": "eSPnp3WwaOJJ"
      },
      "source": [
        "from keras.optimizers import Adam\n",
        "optimizer = Adam(lr=0.01)"
      ],
      "execution_count": 13,
      "outputs": []
    },
    {
      "cell_type": "code",
      "metadata": {
        "id": "sovz7GqUaZ_1"
      },
      "source": [
        "# 학습실행 환경 설정 compile\n",
        "\n",
        "model.compile(optimizer=optimizer, loss='categorical_crossentropy', metrics=['accuracy'])"
      ],
      "execution_count": 14,
      "outputs": []
    },
    {
      "cell_type": "code",
      "metadata": {
        "colab": {
          "base_uri": "https://localhost:8080/"
        },
        "id": "8Ygqyfk6agw3",
        "outputId": "658e0ac7-62cf-4339-b5c5-23d452a96a7f"
      },
      "source": [
        "model.summary()"
      ],
      "execution_count": 15,
      "outputs": [
        {
          "output_type": "stream",
          "text": [
            "Model: \"sequential\"\n",
            "_________________________________________________________________\n",
            "Layer (type)                 Output Shape              Param #   \n",
            "=================================================================\n",
            "conv2d (Conv2D)              (None, 32, 32, 32)        896       \n",
            "_________________________________________________________________\n",
            "batch_normalization (BatchNo (None, 32, 32, 32)        128       \n",
            "_________________________________________________________________\n",
            "conv2d_1 (Conv2D)            (None, 32, 32, 32)        9248      \n",
            "_________________________________________________________________\n",
            "batch_normalization_1 (Batch (None, 32, 32, 32)        128       \n",
            "_________________________________________________________________\n",
            "max_pooling2d (MaxPooling2D) (None, 16, 16, 32)        0         \n",
            "_________________________________________________________________\n",
            "dropout (Dropout)            (None, 16, 16, 32)        0         \n",
            "_________________________________________________________________\n",
            "conv2d_2 (Conv2D)            (None, 16, 16, 64)        18496     \n",
            "_________________________________________________________________\n",
            "batch_normalization_2 (Batch (None, 16, 16, 64)        256       \n",
            "_________________________________________________________________\n",
            "conv2d_3 (Conv2D)            (None, 16, 16, 64)        36928     \n",
            "_________________________________________________________________\n",
            "batch_normalization_3 (Batch (None, 16, 16, 64)        256       \n",
            "_________________________________________________________________\n",
            "max_pooling2d_1 (MaxPooling2 (None, 8, 8, 64)          0         \n",
            "_________________________________________________________________\n",
            "dropout_1 (Dropout)          (None, 8, 8, 64)          0         \n",
            "_________________________________________________________________\n",
            "conv2d_4 (Conv2D)            (None, 8, 8, 128)         73856     \n",
            "_________________________________________________________________\n",
            "batch_normalization_4 (Batch (None, 8, 8, 128)         512       \n",
            "_________________________________________________________________\n",
            "conv2d_5 (Conv2D)            (None, 8, 8, 128)         147584    \n",
            "_________________________________________________________________\n",
            "batch_normalization_5 (Batch (None, 8, 8, 128)         512       \n",
            "_________________________________________________________________\n",
            "max_pooling2d_2 (MaxPooling2 (None, 4, 4, 128)         0         \n",
            "_________________________________________________________________\n",
            "dropout_2 (Dropout)          (None, 4, 4, 128)         0         \n",
            "_________________________________________________________________\n",
            "flatten (Flatten)            (None, 2048)              0         \n",
            "_________________________________________________________________\n",
            "dense (Dense)                (None, 512)               1049088   \n",
            "_________________________________________________________________\n",
            "dense_1 (Dense)              (None, 10)                5130      \n",
            "=================================================================\n",
            "Total params: 1,343,018\n",
            "Trainable params: 1,342,122\n",
            "Non-trainable params: 896\n",
            "_________________________________________________________________\n"
          ],
          "name": "stdout"
        }
      ]
    },
    {
      "cell_type": "code",
      "metadata": {
        "colab": {
          "base_uri": "https://localhost:8080/"
        },
        "id": "U7TV2sdbavdx",
        "outputId": "f634020b-d1e6-4091-faea-49aa958b1448"
      },
      "source": [
        "# 모델 훈련\n",
        "\n",
        "model.fit(train_images, train_labels, epochs=20, batch_size=200)"
      ],
      "execution_count": 16,
      "outputs": [
        {
          "output_type": "stream",
          "text": [
            "Epoch 1/20\n",
            "250/250 [==============================] - 53s 21ms/step - loss: 7.4464 - accuracy: 0.2293\n",
            "Epoch 2/20\n",
            "250/250 [==============================] - 5s 22ms/step - loss: 1.5969 - accuracy: 0.4162\n",
            "Epoch 3/20\n",
            "250/250 [==============================] - 5s 21ms/step - loss: 1.3630 - accuracy: 0.5110\n",
            "Epoch 4/20\n",
            "250/250 [==============================] - 5s 22ms/step - loss: 1.1712 - accuracy: 0.5854\n",
            "Epoch 5/20\n",
            "250/250 [==============================] - 5s 21ms/step - loss: 1.0247 - accuracy: 0.6349\n",
            "Epoch 6/20\n",
            "250/250 [==============================] - 5s 22ms/step - loss: 0.8932 - accuracy: 0.6847\n",
            "Epoch 7/20\n",
            "250/250 [==============================] - 5s 22ms/step - loss: 0.8159 - accuracy: 0.7144\n",
            "Epoch 8/20\n",
            "250/250 [==============================] - 5s 22ms/step - loss: 0.7448 - accuracy: 0.7354\n",
            "Epoch 9/20\n",
            "250/250 [==============================] - 5s 22ms/step - loss: 0.6832 - accuracy: 0.7610\n",
            "Epoch 10/20\n",
            "250/250 [==============================] - 5s 22ms/step - loss: 0.6310 - accuracy: 0.7788\n",
            "Epoch 11/20\n",
            "250/250 [==============================] - 5s 22ms/step - loss: 0.5975 - accuracy: 0.7896\n",
            "Epoch 12/20\n",
            "250/250 [==============================] - 6s 22ms/step - loss: 0.5577 - accuracy: 0.8066\n",
            "Epoch 13/20\n",
            "250/250 [==============================] - 6s 22ms/step - loss: 0.5353 - accuracy: 0.8127\n",
            "Epoch 14/20\n",
            "250/250 [==============================] - 6s 22ms/step - loss: 0.5089 - accuracy: 0.8230\n",
            "Epoch 15/20\n",
            "250/250 [==============================] - 6s 22ms/step - loss: 0.4864 - accuracy: 0.8305\n",
            "Epoch 16/20\n",
            "250/250 [==============================] - 6s 22ms/step - loss: 0.4680 - accuracy: 0.8360\n",
            "Epoch 17/20\n",
            "250/250 [==============================] - 6s 22ms/step - loss: 0.4523 - accuracy: 0.8444\n",
            "Epoch 18/20\n",
            "250/250 [==============================] - 6s 22ms/step - loss: 0.4341 - accuracy: 0.8500\n",
            "Epoch 19/20\n",
            "250/250 [==============================] - 6s 23ms/step - loss: 0.4301 - accuracy: 0.8538\n",
            "Epoch 20/20\n",
            "250/250 [==============================] - 6s 22ms/step - loss: 0.4174 - accuracy: 0.8558\n"
          ],
          "name": "stdout"
        },
        {
          "output_type": "execute_result",
          "data": {
            "text/plain": [
              "<keras.callbacks.History at 0x7f635030f1d0>"
            ]
          },
          "metadata": {
            "tags": []
          },
          "execution_count": 16
        }
      ]
    },
    {
      "cell_type": "code",
      "metadata": {
        "colab": {
          "base_uri": "https://localhost:8080/"
        },
        "id": "f1k5jxtZbdjd",
        "outputId": "f848470d-0d81-4322-aacb-efc47b4f86c2"
      },
      "source": [
        "# 모델 평가(test dataset)\n",
        "test_loss, test_acc = model.evaluate(test_images, test_labels)"
      ],
      "execution_count": 17,
      "outputs": [
        {
          "output_type": "stream",
          "text": [
            "313/313 [==============================] - 2s 4ms/step - loss: 0.6007 - accuracy: 0.8019\n"
          ],
          "name": "stdout"
        }
      ]
    },
    {
      "cell_type": "code",
      "metadata": {
        "colab": {
          "base_uri": "https://localhost:8080/"
        },
        "id": "oKw_CxAkbuLC",
        "outputId": "ae546e5b-542c-4cba-9bcd-d37bec1df572"
      },
      "source": [
        "print('test_acc:', test_acc)"
      ],
      "execution_count": 18,
      "outputs": [
        {
          "output_type": "stream",
          "text": [
            "test_acc: 0.8019000291824341\n"
          ],
          "name": "stdout"
        }
      ]
    },
    {
      "cell_type": "code",
      "metadata": {
        "id": "1WqQwwe2b9e2"
      },
      "source": [
        "# 모델 저장(save)\n",
        "import os\n",
        "\n",
        "if not os.path.exists('./model'):\n",
        "  os.mkdir('model')"
      ],
      "execution_count": 20,
      "outputs": []
    },
    {
      "cell_type": "code",
      "metadata": {
        "id": "-RTbiCzWcyv4"
      },
      "source": [
        "model.save('model/model_cifar10.h5')"
      ],
      "execution_count": 21,
      "outputs": []
    },
    {
      "cell_type": "code",
      "metadata": {
        "id": "BPfvA6jUds-9"
      },
      "source": [
        ""
      ],
      "execution_count": null,
      "outputs": []
    }
  ]
}