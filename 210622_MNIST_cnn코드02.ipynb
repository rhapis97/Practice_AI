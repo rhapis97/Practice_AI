{
  "nbformat": 4,
  "nbformat_minor": 0,
  "metadata": {
    "colab": {
      "name": "210622_MNIST_cnn코드02.ipynb",
      "provenance": [],
      "collapsed_sections": []
    },
    "kernelspec": {
      "name": "python3",
      "display_name": "Python 3"
    },
    "language_info": {
      "name": "python"
    },
    "accelerator": "GPU"
  },
  "cells": [
    {
      "cell_type": "code",
      "metadata": {
        "id": "c7w3GDPNG47p"
      },
      "source": [
        "from __future__ import print_function\n",
        "import keras\n",
        "from keras.datasets import mnist\n",
        "from keras.models import Sequential\n",
        "from keras.layers import Dense, Dropout, Flatten\n",
        "from keras.layers import Conv2D, MaxPooling2D\n",
        "from keras import backend as K\n",
        "from keras.models import load_model\n",
        "from tensorflow.keras.utils import to_categorical\n",
        "\n",
        "import matplotlib.pyplot as plt\n",
        "import numpy as np"
      ],
      "execution_count": 15,
      "outputs": []
    },
    {
      "cell_type": "code",
      "metadata": {
        "id": "NoiguYeJI9sm"
      },
      "source": [
        "img_rows, img_cols = 28, 28"
      ],
      "execution_count": 8,
      "outputs": []
    },
    {
      "cell_type": "code",
      "metadata": {
        "colab": {
          "base_uri": "https://localhost:8080/"
        },
        "id": "rRqbMKLJJCnR",
        "outputId": "70473b57-3667-4fe1-a5f9-1049baee08cc"
      },
      "source": [
        "(x_train, y_train), (x_test, y_test) = mnist.load_data()"
      ],
      "execution_count": 9,
      "outputs": [
        {
          "output_type": "stream",
          "text": [
            "Downloading data from https://storage.googleapis.com/tensorflow/tf-keras-datasets/mnist.npz\n",
            "11493376/11490434 [==============================] - 0s 0us/step\n",
            "11501568/11490434 [==============================] - 0s 0us/step\n"
          ],
          "name": "stdout"
        }
      ]
    },
    {
      "cell_type": "code",
      "metadata": {
        "id": "UQyvcHrXJInW"
      },
      "source": [
        "x_train = x_train.reshape(x_train.shape[0], img_rows, img_cols, 1)\n",
        "x_test = x_test.reshape(x_test.shape[0], img_rows, img_cols, 1)"
      ],
      "execution_count": 10,
      "outputs": []
    },
    {
      "cell_type": "code",
      "metadata": {
        "id": "njVgfpdyJYo9"
      },
      "source": [
        "input_shape = (img_rows, img_cols, 1)"
      ],
      "execution_count": 11,
      "outputs": []
    },
    {
      "cell_type": "code",
      "metadata": {
        "id": "QaL2ZCaeJffA"
      },
      "source": [
        "x_train = x_train.astype('float32')\n",
        "x_test = x_test.astype('float32')"
      ],
      "execution_count": 12,
      "outputs": []
    },
    {
      "cell_type": "code",
      "metadata": {
        "colab": {
          "base_uri": "https://localhost:8080/"
        },
        "id": "1ge-EVmkJmya",
        "outputId": "4fdd9e3b-a94b-41e4-f3f0-6b4eca4aa794"
      },
      "source": [
        "x_train /= 255\n",
        "x_test /= 255\n",
        "\n",
        "print('x_train shape:', x_train.shape)\n",
        "print('x_test shape:', x_test.shape)\n",
        "print(x_train.shape[0], 'train sample')\n",
        "print(x_test.shape[0], 'test sample')"
      ],
      "execution_count": 13,
      "outputs": [
        {
          "output_type": "stream",
          "text": [
            "x_train shape: (60000, 28, 28, 1)\n",
            "x_test shape: (10000, 28, 28, 1)\n",
            "60000 train sample\n",
            "10000 test sample\n"
          ],
          "name": "stdout"
        }
      ]
    },
    {
      "cell_type": "code",
      "metadata": {
        "id": "tO9rVf_VKLcG"
      },
      "source": [
        "y_train = to_categorical(y_train, 10)\n",
        "y_test = to_categorical(y_test, 10)"
      ],
      "execution_count": 16,
      "outputs": []
    },
    {
      "cell_type": "code",
      "metadata": {
        "id": "mjGRO2kCIGMm"
      },
      "source": [
        "model = load_model('mnist_cnn.h5')    # 만들어둔 모델 불러오기"
      ],
      "execution_count": 3,
      "outputs": []
    },
    {
      "cell_type": "code",
      "metadata": {
        "colab": {
          "base_uri": "https://localhost:8080/"
        },
        "id": "XVQZARvSH8FD",
        "outputId": "b00e1261-4072-41dd-ddf6-d45d51c29a85"
      },
      "source": [
        "model.summary()"
      ],
      "execution_count": 5,
      "outputs": [
        {
          "output_type": "stream",
          "text": [
            "Model: \"sequential_1\"\n",
            "_________________________________________________________________\n",
            "Layer (type)                 Output Shape              Param #   \n",
            "=================================================================\n",
            "conv2d_2 (Conv2D)            (None, 26, 26, 32)        320       \n",
            "_________________________________________________________________\n",
            "conv2d_3 (Conv2D)            (None, 24, 24, 64)        18496     \n",
            "_________________________________________________________________\n",
            "max_pooling2d_1 (MaxPooling2 (None, 12, 12, 64)        0         \n",
            "_________________________________________________________________\n",
            "dropout_2 (Dropout)          (None, 12, 12, 64)        0         \n",
            "_________________________________________________________________\n",
            "flatten_1 (Flatten)          (None, 9216)              0         \n",
            "_________________________________________________________________\n",
            "dense_2 (Dense)              (None, 128)               1179776   \n",
            "_________________________________________________________________\n",
            "dropout_3 (Dropout)          (None, 128)               0         \n",
            "_________________________________________________________________\n",
            "dense_3 (Dense)              (None, 10)                1290      \n",
            "=================================================================\n",
            "Total params: 1,199,882\n",
            "Trainable params: 1,199,882\n",
            "Non-trainable params: 0\n",
            "_________________________________________________________________\n"
          ],
          "name": "stdout"
        }
      ]
    },
    {
      "cell_type": "code",
      "metadata": {
        "colab": {
          "base_uri": "https://localhost:8080/",
          "height": 265
        },
        "id": "WzaTDadRIg1m",
        "outputId": "6468d4b1-c37c-4864-fc8c-5c2d2b917388"
      },
      "source": [
        "# n번째 이미지 보기\n",
        "n = 0\n",
        "plt.imshow(x_test[n].reshape(28,28), cmap='Greys', interpolation='nearest')\n",
        "plt.show()"
      ],
      "execution_count": 17,
      "outputs": [
        {
          "output_type": "display_data",
          "data": {
            "image/png": "[encoded data removed]",
            "text/plain": [
              "<Figure size 432x288 with 1 Axes>"
            ]
          },
          "metadata": {
            "tags": [],
            "needs_background": "light"
          }
        }
      ]
    },
    {
      "cell_type": "code",
      "metadata": {
        "colab": {
          "base_uri": "https://localhost:8080/"
        },
        "id": "4hNNT1J9I0oG",
        "outputId": "dbfafcfe-1324-4554-e7f2-7e3e56102076"
      },
      "source": [
        "print('The answer is', np.argmax(model.predict(x_test[n].reshape(1,28,28,1)), axis=-1))    # axis=-1: 현재 배열의 마지막 axis"
      ],
      "execution_count": 21,
      "outputs": [
        {
          "output_type": "stream",
          "text": [
            "The answer is [7]\n"
          ],
          "name": "stdout"
        }
      ]
    },
    {
      "cell_type": "code",
      "metadata": {
        "colab": {
          "base_uri": "https://localhost:8080/"
        },
        "id": "Pl7ee5etNmJd",
        "outputId": "6667c243-36fd-47a1-d782-f272fe347a7a"
      },
      "source": [
        "model.predict(x_test[n].reshape(1,28,28,1))"
      ],
      "execution_count": 22,
      "outputs": [
        {
          "output_type": "execute_result",
          "data": {
            "text/plain": [
              "array([[1.4729289e-15, 4.5486465e-11, 1.4392677e-10, 6.9334312e-09,\n",
              "        2.7651690e-14, 2.0478643e-14, 4.3556570e-19, 1.0000000e+00,\n",
              "        2.4228014e-14, 4.5779983e-10]], dtype=float32)"
            ]
          },
          "metadata": {
            "tags": []
          },
          "execution_count": 22
        }
      ]
    },
    {
      "cell_type": "code",
      "metadata": {
        "colab": {
          "base_uri": "https://localhost:8080/"
        },
        "id": "Jg2OJl_oObfD",
        "outputId": "93cecb69-24ab-49d4-b934-c2ed9edc9c80"
      },
      "source": [
        "model.predict(x_test)"
      ],
      "execution_count": 23,
      "outputs": [
        {
          "output_type": "execute_result",
          "data": {
            "text/plain": [
              "array([[1.4729289e-15, 4.5486552e-11, 1.4392705e-10, ..., 1.0000000e+00,\n",
              "        2.4228014e-14, 4.5780071e-10],\n",
              "       [1.6405342e-11, 8.3950502e-10, 1.0000000e+00, ..., 1.4853663e-13,\n",
              "        4.7590275e-15, 8.2097652e-14],\n",
              "       [1.6806193e-10, 9.9999857e-01, 3.4344751e-08, ..., 1.2515964e-06,\n",
              "        3.8601420e-09, 1.4260796e-08],\n",
              "       ...,\n",
              "       [1.8430082e-18, 2.4600998e-11, 5.0425519e-15, ..., 9.5379607e-11,\n",
              "        2.0093116e-11, 4.5364495e-10],\n",
              "       [3.6897197e-13, 3.8200437e-14, 1.3441205e-19, ..., 8.6100539e-16,\n",
              "        2.9041443e-08, 5.9655210e-13],\n",
              "       [3.4564605e-09, 4.5769877e-13, 1.8794052e-10, ..., 1.2974115e-17,\n",
              "        2.4914940e-10, 3.6578956e-12]], dtype=float32)"
            ]
          },
          "metadata": {
            "tags": []
          },
          "execution_count": 23
        }
      ]
    },
    {
      "cell_type": "code",
      "metadata": {
        "colab": {
          "base_uri": "https://localhost:8080/"
        },
        "id": "Qsdt9VIvPKJ7",
        "outputId": "2afaf618-b64b-4cfe-eb6e-0345204cd97e"
      },
      "source": [
        "np.argmax(y_test, axis=1)    # 열 기준. 라벨링한 값"
      ],
      "execution_count": 24,
      "outputs": [
        {
          "output_type": "execute_result",
          "data": {
            "text/plain": [
              "array([7, 2, 1, ..., 4, 5, 6])"
            ]
          },
          "metadata": {
            "tags": []
          },
          "execution_count": 24
        }
      ]
    },
    {
      "cell_type": "code",
      "metadata": {
        "id": "JyElsRBBO5sl"
      },
      "source": [
        "predicted_result = model.predict(x_test)\n",
        "predicted_labels = np.argmax(predicted_result, axis=1)    # 열 기준 가장 큰 값이 나온 인덱스(예측값)\n",
        "test_labels = np.argmax(y_test, axis=1)                  # 열 기준 가장 큰 값이 나온 인덱스(참값)"
      ],
      "execution_count": 26,
      "outputs": []
    },
    {
      "cell_type": "code",
      "metadata": {
        "colab": {
          "base_uri": "https://localhost:8080/",
          "height": 585
        },
        "id": "O41wQHP2Pva0",
        "outputId": "5bcc81b2-2753-42f6-b7c0-65996bda475e"
      },
      "source": [
        "wrong_result = []\n",
        "\n",
        "for n in range(0, len(test_labels)):\n",
        "  if predicted_labels[n] != test_labels[n]:    # 실제와 값이 다르게 예측되면\n",
        "    wrong_result.append(n)\n",
        "\n",
        "count = 0\n",
        "nrows = 4\n",
        "ncols = 4\n",
        "\n",
        "plt.figure(figsize=(12,8))\n",
        "\n",
        "for n in wrong_result:\n",
        "  count += 1\n",
        "  plt.subplot(nrows, ncols, count)\n",
        "  plt.imshow(x_test[n].reshape(28,28), cmap='Greys', interpolation='nearest')\n",
        "  tmp = 'Label:' + str(test_labels[n]) + ', predictions:' + str(predicted_labels[n])\n",
        "  plt.title(tmp)\n",
        "\n",
        "  if count == 16:    # 잘못된 결과는 16개까지만 확인\n",
        "    break\n",
        "\n",
        "plt.tight_layout()\n",
        "plt.show()"
      ],
      "execution_count": 29,
      "outputs": [
        {
          "output_type": "display_data",
          "data": {
            "image/png": "[encoded data removed]",
            "text/plain": [
              "<Figure size 864x576 with 16 Axes>"
            ]
          },
          "metadata": {
            "tags": [],
            "needs_background": "light"
          }
        }
      ]
    },
    {
      "cell_type": "code",
      "metadata": {
        "id": "dCfOyyqpRjqr"
      },
      "source": [
        ""
      ],
      "execution_count": null,
      "outputs": []
    }
  ]
}