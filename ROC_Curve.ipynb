{
  "nbformat": 4,
  "nbformat_minor": 0,
  "metadata": {
    "colab": {
      "name": "ROC Curve.ipynb",
      "provenance": [],
      "collapsed_sections": [],
      "authorship_tag": "ABX9TyNRc2JTt+ND1i73iDgoSfCw",
      "include_colab_link": true
    },
    "kernelspec": {
      "name": "python3",
      "display_name": "Python 3"
    },
    "language_info": {
      "name": "python"
    }
  },
  "cells": [
    {
      "cell_type": "markdown",
      "metadata": {
        "id": "view-in-github",
        "colab_type": "text"
      },
      "source": [
        "<a href=\"https://colab.research.google.com/github/rhapis97/Practice_AI/blob/main/ROC_Curve.ipynb\" target=\"_parent\"><img src=\"https://colab.research.google.com/assets/colab-badge.svg\" alt=\"Open In Colab\"/></a>"
      ]
    },
    {
      "cell_type": "code",
      "metadata": {
        "id": "hDtJjVxgLCD0"
      },
      "source": [
        "import numpy as np\n",
        "import pandas as pd\n",
        "import matplotlib.pyplot as plt\n",
        "import seaborn as sns"
      ],
      "execution_count": 1,
      "outputs": []
    },
    {
      "cell_type": "code",
      "metadata": {
        "id": "2XMg0pnaLMJ4"
      },
      "source": [
        "from sklearn.datasets import make_classification\n",
        "from sklearn.neighbors import KNeighborsClassifier\n",
        "from sklearn.ensemble import RandomForestClassifier\n",
        "from sklearn.model_selection import train_test_split\n",
        "from sklearn.metrics import roc_curve\n",
        "from sklearn.metrics import roc_auc_score"
      ],
      "execution_count": 2,
      "outputs": []
    },
    {
      "cell_type": "code",
      "metadata": {
        "id": "3j2GErw7Lklc"
      },
      "source": [
        "# roc curve function\n",
        "\n",
        "def roc_curve_fig(fpr, tpr):  # false positive rate(민감도), true positive rate(특이도)\n",
        "  plt.plot(fpr, tpr, color='yellow', label='ROC')\n",
        "  plt.plot([0,1], [0,1], color='darkblue', linestyle='--')\n",
        "  plt.xlabel('False Positive Rate')\n",
        "  plt.ylabel('True Positive Rate')\n",
        "  plt.title('ROC CURVE')\n",
        "  plt.legend()\n",
        "  plt.show()"
      ],
      "execution_count": 3,
      "outputs": []
    },
    {
      "cell_type": "code",
      "metadata": {
        "id": "kV0IjyFzMWFC"
      },
      "source": [
        "# number of sample = 1000\n",
        "\n",
        "data_X, class_label = make_classification(n_samples=1000, n_classes=2, weights=[1,1], random_state=1)"
      ],
      "execution_count": 4,
      "outputs": []
    },
    {
      "cell_type": "code",
      "metadata": {
        "id": "gyOTThZaMpFY"
      },
      "source": [
        "train_X, test_X, train_y, test_y = train_test_split(data_X, class_label,\n",
        "                                                    test_size = 0.2,\n",
        "                                                    random_state = 1)"
      ],
      "execution_count": 5,
      "outputs": []
    },
    {
      "cell_type": "code",
      "metadata": {
        "colab": {
          "base_uri": "https://localhost:8080/"
        },
        "id": "ce_vWNOfNGOf",
        "outputId": "97826b82-d087-4c5a-d6bf-9a5e88f1820c"
      },
      "source": [
        "# 모델 생성\n",
        "\n",
        "model = RandomForestClassifier()\n",
        "\n",
        "model.fit(train_X, train_y)"
      ],
      "execution_count": 6,
      "outputs": [
        {
          "output_type": "execute_result",
          "data": {
            "text/plain": [
              "RandomForestClassifier(bootstrap=True, ccp_alpha=0.0, class_weight=None,\n",
              "                       criterion='gini', max_depth=None, max_features='auto',\n",
              "                       max_leaf_nodes=None, max_samples=None,\n",
              "                       min_impurity_decrease=0.0, min_impurity_split=None,\n",
              "                       min_samples_leaf=1, min_samples_split=2,\n",
              "                       min_weight_fraction_leaf=0.0, n_estimators=100,\n",
              "                       n_jobs=None, oob_score=False, random_state=None,\n",
              "                       verbose=0, warm_start=False)"
            ]
          },
          "metadata": {
            "tags": []
          },
          "execution_count": 6
        }
      ]
    },
    {
      "cell_type": "code",
      "metadata": {
        "id": "QBeLDDwcNO6y"
      },
      "source": [
        "# 모델 예측\n",
        "\n",
        "prob = model.predict_proba(test_X)    # 퍼센트"
      ],
      "execution_count": 7,
      "outputs": []
    },
    {
      "cell_type": "code",
      "metadata": {
        "colab": {
          "base_uri": "https://localhost:8080/"
        },
        "id": "YrGDzwIsNrBM",
        "outputId": "7fe2d79a-1f51-406d-da61-f2dea7aa689b"
      },
      "source": [
        "prob[:, 1]    # positive class"
      ],
      "execution_count": 8,
      "outputs": [
        {
          "output_type": "execute_result",
          "data": {
            "text/plain": [
              "array([0.04, 0.92, 0.01, 0.07, 0.93, 0.79, 0.75, 0.93, 0.85, 0.06, 0.75,\n",
              "       0.97, 0.04, 0.83, 0.79, 0.05, 0.97, 0.05, 0.9 , 0.04, 0.12, 0.2 ,\n",
              "       0.85, 0.91, 0.87, 0.88, 0.02, 0.86, 0.78, 0.9 , 0.  , 0.11, 0.82,\n",
              "       0.74, 0.82, 0.1 , 0.04, 0.23, 0.95, 0.01, 0.01, 0.73, 0.  , 0.23,\n",
              "       0.75, 0.06, 0.82, 0.92, 0.81, 0.08, 0.  , 0.66, 0.01, 0.05, 0.03,\n",
              "       0.1 , 0.77, 0.89, 0.1 , 0.06, 0.57, 0.  , 0.94, 0.11, 0.05, 0.3 ,\n",
              "       0.03, 0.39, 0.91, 0.52, 0.94, 0.02, 0.9 , 0.02, 0.06, 0.94, 0.02,\n",
              "       0.97, 0.89, 0.84, 0.04, 0.07, 0.82, 0.9 , 0.23, 0.81, 0.  , 0.07,\n",
              "       0.57, 0.71, 0.87, 0.9 , 0.55, 0.07, 0.91, 0.25, 0.93, 0.75, 0.03,\n",
              "       0.03, 0.8 , 0.02, 0.79, 0.05, 0.05, 0.95, 0.05, 0.76, 0.43, 0.72,\n",
              "       0.88, 0.02, 0.89, 0.84, 0.89, 0.95, 0.85, 0.03, 0.92, 0.  , 0.02,\n",
              "       0.04, 0.01, 0.88, 0.77, 0.02, 0.78, 0.93, 0.84, 0.97, 0.85, 0.03,\n",
              "       0.88, 0.83, 0.34, 0.78, 0.04, 0.83, 0.93, 0.81, 0.89, 0.64, 0.06,\n",
              "       0.03, 0.92, 0.1 , 0.86, 0.27, 0.15, 0.82, 0.02, 0.04, 0.95, 0.89,\n",
              "       0.73, 0.03, 0.52, 0.62, 0.01, 0.07, 0.86, 0.67, 0.02, 0.82, 0.31,\n",
              "       0.09, 0.86, 0.05, 0.83, 0.01, 0.74, 0.73, 0.06, 0.02, 0.88, 0.86,\n",
              "       0.9 , 0.83, 0.94, 0.88, 0.08, 0.07, 0.42, 0.12, 0.42, 0.44, 0.  ,\n",
              "       0.15, 0.58, 0.89, 0.05, 0.82, 0.92, 0.9 , 0.32, 0.14, 0.04, 0.95,\n",
              "       0.83, 0.01])"
            ]
          },
          "metadata": {
            "tags": []
          },
          "execution_count": 8
        }
      ]
    },
    {
      "cell_type": "code",
      "metadata": {
        "id": "fXxFIV6SN5_1"
      },
      "source": [
        "probs = prob[:, 1]    # positive class"
      ],
      "execution_count": 9,
      "outputs": []
    },
    {
      "cell_type": "code",
      "metadata": {
        "id": "TLDT-bX9N--S"
      },
      "source": [
        "# AUC\n",
        "\n",
        "auc = roc_auc_score(test_y, probs)"
      ],
      "execution_count": 10,
      "outputs": []
    },
    {
      "cell_type": "code",
      "metadata": {
        "id": "HvajKKVUOJL0"
      },
      "source": [
        "fpr, tpr, thresholds = roc_curve(test_y, probs)"
      ],
      "execution_count": 11,
      "outputs": []
    },
    {
      "cell_type": "code",
      "metadata": {
        "colab": {
          "base_uri": "https://localhost:8080/",
          "height": 295
        },
        "id": "qejWHaAtOS7U",
        "outputId": "b727f01b-037d-4191-e0f4-f0fa28b28cbe"
      },
      "source": [
        "roc_curve_fig(fpr, tpr)"
      ],
      "execution_count": 12,
      "outputs": [
        {
          "output_type": "display_data",
          "data": {
            "image/png": "[encoded data removed]",
            "text/plain": [
              "<Figure size 432x288 with 1 Axes>"
            ]
          },
          "metadata": {
            "tags": [],
            "needs_background": "light"
          }
        }
      ]
    },
    {
      "cell_type": "code",
      "metadata": {
        "colab": {
          "base_uri": "https://localhost:8080/"
        },
        "id": "LBWYkos3OeXD",
        "outputId": "bada5d35-1811-44a3-955d-35f844d0cbff"
      },
      "source": [
        "auc"
      ],
      "execution_count": 13,
      "outputs": [
        {
          "output_type": "execute_result",
          "data": {
            "text/plain": [
              "0.9593459345934594"
            ]
          },
          "metadata": {
            "tags": []
          },
          "execution_count": 13
        }
      ]
    },
    {
      "cell_type": "code",
      "metadata": {
        "id": "Zl57gc7KOunC"
      },
      "source": [
        ""
      ],
      "execution_count": null,
      "outputs": []
    }
  ]
}